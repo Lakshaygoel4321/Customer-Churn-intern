{
 "cells": [
  {
   "cell_type": "markdown",
   "id": "3781e34c-dd7b-4bf5-a72c-2b73b46959dc",
   "metadata": {},
   "source": [
    "# Life Cycle Of Machine Learning Project\n",
    "\n",
    "1. Understanding the Problem Statement.\n",
    "\n",
    "2. Data Collection.\n",
    "\n",
    "3. Data Checks to Perform.\n",
    "\n",
    "4. Exploratory Data Analysis.\n",
    "\n",
    "5. Data Pre-Processing.\n",
    "\n",
    "6. Model Training.\n",
    "\n",
    "7. Choose the Best Model."
   ]
  },
  {
   "cell_type": "markdown",
   "id": "70d37997-593b-4c3d-9da4-cb9396f2f301",
   "metadata": {},
   "source": [
    "# Data Collection\n",
    "\n",
    "The data consists of 15 Columns and 14383 Rows"
   ]
  },
  {
   "cell_type": "markdown",
   "id": "7f88cd8b-57f7-4acb-9be8-f71265f25cf4",
   "metadata": {},
   "source": [
    "# Import the Packages"
   ]
  },
  {
   "cell_type": "code",
   "execution_count": 72,
   "id": "a4c9d173-6821-45a0-9b6b-c3cc95e521c6",
   "metadata": {},
   "outputs": [],
   "source": [
    "import pandas as pd\n",
    "import numpy as np\n",
    "import seaborn as sns\n",
    "import matplotlib.pyplot as plt\n",
    "from sklearn.model_selection import train_test_split\n",
    "from sklearn.ensemble import RandomForestClassifier,GradientBoostingClassifier,AdaBoostClassifier\n",
    "from sklearn.svm import SVR,SVC\n",
    "from sklearn.linear_model import LinearRegression,LogisticRegression\n",
    "from sklearn.neighbors import KNeighborsRegressor,KNeighborsClassifier\n",
    "from sklearn.metrics import (f1_score,accuracy_score,precision_score,roc_auc_score,\n",
    "                                classification_report,roc_curve,recall_score)\n",
    "from sklearn.preprocessing import LabelEncoder\n",
    "from sklearn.preprocessing import OneHotEncoder\n",
    "from sklearn.compose import ColumnTransformer\n",
    "from sklearn.pipeline import Pipeline\n",
    "from sklearn.tree import DecisionTreeClassifier\n",
    "from xgboost import XGBClassifier\n",
    "from catboost import CatBoostClassifier\n",
    "from sklearn.model_selection import cross_validate,cross_val_score\n",
    "from sklearn.preprocessing import StandardScaler\n",
    "import warnings\n",
    "warnings.filterwarnings('ignore')\n",
    "\n"
   ]
  },
  {
   "cell_type": "markdown",
   "id": "d25520ec-5dee-45de-856d-f1065e31ad6b",
   "metadata": {},
   "source": [
    "# Importing the CSV Dataset from Pandas library"
   ]
  },
  {
   "cell_type": "code",
   "execution_count": 3,
   "id": "6bde087c-0793-44a1-9b71-c4990e23854e",
   "metadata": {},
   "outputs": [],
   "source": [
    "\n",
    "df = pd.read_csv(r\"C:\\Users\\iamda\\Downloads\\fraud_data.csv\")"
   ]
  },
  {
   "cell_type": "markdown",
   "id": "9735847c-cd22-41fa-b215-f0e9f4ae0ebe",
   "metadata": {},
   "source": [
    "# Show Top 5 Rows"
   ]
  },
  {
   "cell_type": "code",
   "execution_count": 4,
   "id": "959ae7e2-7127-4886-abff-77690e0685a4",
   "metadata": {},
   "outputs": [
    {
     "data": {
      "text/html": [
       "<div>\n",
       "<style scoped>\n",
       "    .dataframe tbody tr th:only-of-type {\n",
       "        vertical-align: middle;\n",
       "    }\n",
       "\n",
       "    .dataframe tbody tr th {\n",
       "        vertical-align: top;\n",
       "    }\n",
       "\n",
       "    .dataframe thead th {\n",
       "        text-align: right;\n",
       "    }\n",
       "</style>\n",
       "<table border=\"1\" class=\"dataframe\">\n",
       "  <thead>\n",
       "    <tr style=\"text-align: right;\">\n",
       "      <th></th>\n",
       "      <th>trans_date_trans_time</th>\n",
       "      <th>merchant</th>\n",
       "      <th>category</th>\n",
       "      <th>amt</th>\n",
       "      <th>city</th>\n",
       "      <th>state</th>\n",
       "      <th>lat</th>\n",
       "      <th>long</th>\n",
       "      <th>city_pop</th>\n",
       "      <th>job</th>\n",
       "      <th>dob</th>\n",
       "      <th>trans_num</th>\n",
       "      <th>merch_lat</th>\n",
       "      <th>merch_long</th>\n",
       "      <th>is_fraud</th>\n",
       "    </tr>\n",
       "  </thead>\n",
       "  <tbody>\n",
       "    <tr>\n",
       "      <th>0</th>\n",
       "      <td>04-01-2019 00:58</td>\n",
       "      <td>\"Stokes, Christiansen and Sipes\"</td>\n",
       "      <td>grocery_net</td>\n",
       "      <td>14.37</td>\n",
       "      <td>Wales</td>\n",
       "      <td>AK</td>\n",
       "      <td>64.7556</td>\n",
       "      <td>-165.6723</td>\n",
       "      <td>145</td>\n",
       "      <td>\"Administrator, education\"</td>\n",
       "      <td>09-11-1939</td>\n",
       "      <td>a3806e984cec6ac0096d8184c64ad3a1</td>\n",
       "      <td>65.654142</td>\n",
       "      <td>-164.722603</td>\n",
       "      <td>1</td>\n",
       "    </tr>\n",
       "    <tr>\n",
       "      <th>1</th>\n",
       "      <td>04-01-2019 15:06</td>\n",
       "      <td>Predovic Inc</td>\n",
       "      <td>shopping_net</td>\n",
       "      <td>966.11</td>\n",
       "      <td>Wales</td>\n",
       "      <td>AK</td>\n",
       "      <td>64.7556</td>\n",
       "      <td>-165.6723</td>\n",
       "      <td>145</td>\n",
       "      <td>\"Administrator, education\"</td>\n",
       "      <td>09-11-1939</td>\n",
       "      <td>a59185fe1b9ccf21323f581d7477573f</td>\n",
       "      <td>65.468863</td>\n",
       "      <td>-165.473127</td>\n",
       "      <td>1</td>\n",
       "    </tr>\n",
       "    <tr>\n",
       "      <th>2</th>\n",
       "      <td>04-01-2019 22:37</td>\n",
       "      <td>Wisozk and Sons</td>\n",
       "      <td>misc_pos</td>\n",
       "      <td>49.61</td>\n",
       "      <td>Wales</td>\n",
       "      <td>AK</td>\n",
       "      <td>64.7556</td>\n",
       "      <td>-165.6723</td>\n",
       "      <td>145</td>\n",
       "      <td>\"Administrator, education\"</td>\n",
       "      <td>09-11-1939</td>\n",
       "      <td>86ba3a888b42cd3925881fa34177b4e0</td>\n",
       "      <td>65.347667</td>\n",
       "      <td>-165.914542</td>\n",
       "      <td>1</td>\n",
       "    </tr>\n",
       "    <tr>\n",
       "      <th>3</th>\n",
       "      <td>04-01-2019 23:06</td>\n",
       "      <td>Murray-Smitham</td>\n",
       "      <td>grocery_pos</td>\n",
       "      <td>295.26</td>\n",
       "      <td>Wales</td>\n",
       "      <td>AK</td>\n",
       "      <td>64.7556</td>\n",
       "      <td>-165.6723</td>\n",
       "      <td>145</td>\n",
       "      <td>\"Administrator, education\"</td>\n",
       "      <td>09-11-1939</td>\n",
       "      <td>3a068fe1d856f0ecedbed33e4b5f4496</td>\n",
       "      <td>64.445035</td>\n",
       "      <td>-166.080207</td>\n",
       "      <td>1</td>\n",
       "    </tr>\n",
       "    <tr>\n",
       "      <th>4</th>\n",
       "      <td>04-01-2019 23:59</td>\n",
       "      <td>Friesen Lt</td>\n",
       "      <td>health_fitness</td>\n",
       "      <td>18.17</td>\n",
       "      <td>Wales</td>\n",
       "      <td>AK</td>\n",
       "      <td>64.7556</td>\n",
       "      <td>-165.6723</td>\n",
       "      <td>145</td>\n",
       "      <td>\"Administrator, education\"</td>\n",
       "      <td>09-11-1939</td>\n",
       "      <td>891cdd1191028759dc20dc224347a0ff</td>\n",
       "      <td>65.447094</td>\n",
       "      <td>-165.446843</td>\n",
       "      <td>1</td>\n",
       "    </tr>\n",
       "  </tbody>\n",
       "</table>\n",
       "</div>"
      ],
      "text/plain": [
       "  trans_date_trans_time                          merchant        category  \\\n",
       "0      04-01-2019 00:58  \"Stokes, Christiansen and Sipes\"     grocery_net   \n",
       "1      04-01-2019 15:06                      Predovic Inc    shopping_net   \n",
       "2      04-01-2019 22:37                   Wisozk and Sons        misc_pos   \n",
       "3      04-01-2019 23:06                    Murray-Smitham     grocery_pos   \n",
       "4      04-01-2019 23:59                        Friesen Lt  health_fitness   \n",
       "\n",
       "      amt   city state      lat      long  city_pop  \\\n",
       "0   14.37  Wales    AK  64.7556 -165.6723       145   \n",
       "1  966.11  Wales    AK  64.7556 -165.6723       145   \n",
       "2   49.61  Wales    AK  64.7556 -165.6723       145   \n",
       "3  295.26  Wales    AK  64.7556 -165.6723       145   \n",
       "4   18.17  Wales    AK  64.7556 -165.6723       145   \n",
       "\n",
       "                          job         dob                         trans_num  \\\n",
       "0  \"Administrator, education\"  09-11-1939  a3806e984cec6ac0096d8184c64ad3a1   \n",
       "1  \"Administrator, education\"  09-11-1939  a59185fe1b9ccf21323f581d7477573f   \n",
       "2  \"Administrator, education\"  09-11-1939  86ba3a888b42cd3925881fa34177b4e0   \n",
       "3  \"Administrator, education\"  09-11-1939  3a068fe1d856f0ecedbed33e4b5f4496   \n",
       "4  \"Administrator, education\"  09-11-1939  891cdd1191028759dc20dc224347a0ff   \n",
       "\n",
       "   merch_lat  merch_long is_fraud  \n",
       "0  65.654142 -164.722603        1  \n",
       "1  65.468863 -165.473127        1  \n",
       "2  65.347667 -165.914542        1  \n",
       "3  64.445035 -166.080207        1  \n",
       "4  65.447094 -165.446843        1  "
      ]
     },
     "execution_count": 4,
     "metadata": {},
     "output_type": "execute_result"
    }
   ],
   "source": [
    "df.head()"
   ]
  },
  {
   "cell_type": "markdown",
   "id": "8357cf87-846a-4ca1-a950-0d6082bbc027",
   "metadata": {},
   "source": [
    "# Shape of the Datasets"
   ]
  },
  {
   "cell_type": "code",
   "execution_count": 5,
   "id": "f7c7c5b3-1a5f-4f83-916c-7dd9fd8dc9f5",
   "metadata": {},
   "outputs": [
    {
     "name": "stdout",
     "output_type": "stream",
     "text": [
      "Shape of the Datasets: (14446, 15)\n"
     ]
    }
   ],
   "source": [
    "print(f\"Shape of the Datasets: {df.shape}\")"
   ]
  },
  {
   "cell_type": "markdown",
   "id": "c61fefe6-3262-421e-8c35-986efb94abd2",
   "metadata": {},
   "source": [
    "\n",
    "# Checking the null value"
   ]
  },
  {
   "cell_type": "code",
   "execution_count": 6,
   "id": "71939649-60d5-48dd-b8a3-3090a61fdf02",
   "metadata": {},
   "outputs": [
    {
     "data": {
      "text/plain": [
       "trans_date_trans_time    0\n",
       "merchant                 0\n",
       "category                 0\n",
       "amt                      0\n",
       "city                     0\n",
       "state                    0\n",
       "lat                      0\n",
       "long                     0\n",
       "city_pop                 0\n",
       "job                      0\n",
       "dob                      0\n",
       "trans_num                0\n",
       "merch_lat                0\n",
       "merch_long               0\n",
       "is_fraud                 0\n",
       "dtype: int64"
      ]
     },
     "execution_count": 6,
     "metadata": {},
     "output_type": "execute_result"
    }
   ],
   "source": [
    "df.isnull().sum()"
   ]
  },
  {
   "cell_type": "markdown",
   "id": "92f09739-ca40-486b-a2a8-4da3d7854ebf",
   "metadata": {},
   "source": [
    "# Checking the Data type info"
   ]
  },
  {
   "cell_type": "code",
   "execution_count": 7,
   "id": "0390ebbd-c164-49e3-8a37-8396a2cebb47",
   "metadata": {},
   "outputs": [
    {
     "name": "stdout",
     "output_type": "stream",
     "text": [
      "<class 'pandas.core.frame.DataFrame'>\n",
      "RangeIndex: 14446 entries, 0 to 14445\n",
      "Data columns (total 15 columns):\n",
      " #   Column                 Non-Null Count  Dtype  \n",
      "---  ------                 --------------  -----  \n",
      " 0   trans_date_trans_time  14446 non-null  object \n",
      " 1   merchant               14446 non-null  object \n",
      " 2   category               14446 non-null  object \n",
      " 3   amt                    14446 non-null  float64\n",
      " 4   city                   14446 non-null  object \n",
      " 5   state                  14446 non-null  object \n",
      " 6   lat                    14446 non-null  float64\n",
      " 7   long                   14446 non-null  float64\n",
      " 8   city_pop               14446 non-null  int64  \n",
      " 9   job                    14446 non-null  object \n",
      " 10  dob                    14446 non-null  object \n",
      " 11  trans_num              14446 non-null  object \n",
      " 12  merch_lat              14446 non-null  float64\n",
      " 13  merch_long             14446 non-null  float64\n",
      " 14  is_fraud               14446 non-null  object \n",
      "dtypes: float64(5), int64(1), object(9)\n",
      "memory usage: 1.7+ MB\n"
     ]
    }
   ],
   "source": [
    "df.info()"
   ]
  },
  {
   "cell_type": "markdown",
   "id": "19fb27fc-f459-42ed-b4b1-a90a0de030f5",
   "metadata": {},
   "source": [
    "# Check the Duplication"
   ]
  },
  {
   "cell_type": "code",
   "execution_count": 8,
   "id": "9f9c41e4-02b3-48b1-b077-f407b8e5451e",
   "metadata": {},
   "outputs": [
    {
     "name": "stdout",
     "output_type": "stream",
     "text": [
      "Num of Duplicated Row: 63\n"
     ]
    }
   ],
   "source": [
    "print(f\"Num of Duplicated Row: {df.duplicated().sum()}\")"
   ]
  },
  {
   "cell_type": "markdown",
   "id": "6708cd6f-26c0-4967-894e-9db385fb40c3",
   "metadata": {},
   "source": [
    "Drop the Dupicated row"
   ]
  },
  {
   "cell_type": "code",
   "execution_count": 9,
   "id": "86821b1d-393e-49f3-919e-d97d3e5331c1",
   "metadata": {},
   "outputs": [],
   "source": [
    "df.drop_duplicates(inplace=True)"
   ]
  },
  {
   "cell_type": "markdown",
   "id": "7bcdbd70-2476-4010-b509-c413a00a6ecf",
   "metadata": {},
   "source": [
    "## After droping dupicated row again the check the duplication row"
   ]
  },
  {
   "cell_type": "code",
   "execution_count": 10,
   "id": "097556c8-20e3-4e15-bad0-8e96910c56c4",
   "metadata": {},
   "outputs": [
    {
     "name": "stdout",
     "output_type": "stream",
     "text": [
      "Num of Duplicated Row: 0\n"
     ]
    }
   ],
   "source": [
    "\n",
    "print(f\"Num of Duplicated Row: {df.duplicated().sum()}\")"
   ]
  },
  {
   "cell_type": "markdown",
   "id": "eb872047-7423-40f2-af4e-e94c05ec7978",
   "metadata": {},
   "source": [
    "# Statistics test"
   ]
  },
  {
   "cell_type": "code",
   "execution_count": 11,
   "id": "88ef3e76-4737-4c38-a510-41e056294982",
   "metadata": {},
   "outputs": [
    {
     "data": {
      "text/html": [
       "<div>\n",
       "<style scoped>\n",
       "    .dataframe tbody tr th:only-of-type {\n",
       "        vertical-align: middle;\n",
       "    }\n",
       "\n",
       "    .dataframe tbody tr th {\n",
       "        vertical-align: top;\n",
       "    }\n",
       "\n",
       "    .dataframe thead th {\n",
       "        text-align: right;\n",
       "    }\n",
       "</style>\n",
       "<table border=\"1\" class=\"dataframe\">\n",
       "  <thead>\n",
       "    <tr style=\"text-align: right;\">\n",
       "      <th></th>\n",
       "      <th>amt</th>\n",
       "      <th>lat</th>\n",
       "      <th>long</th>\n",
       "      <th>city_pop</th>\n",
       "      <th>merch_lat</th>\n",
       "      <th>merch_long</th>\n",
       "    </tr>\n",
       "  </thead>\n",
       "  <tbody>\n",
       "    <tr>\n",
       "      <th>count</th>\n",
       "      <td>14383.000000</td>\n",
       "      <td>14383.000000</td>\n",
       "      <td>14383.000000</td>\n",
       "      <td>1.438300e+04</td>\n",
       "      <td>14383.000000</td>\n",
       "      <td>14383.000000</td>\n",
       "    </tr>\n",
       "    <tr>\n",
       "      <th>mean</th>\n",
       "      <td>122.719068</td>\n",
       "      <td>39.761571</td>\n",
       "      <td>-110.835395</td>\n",
       "      <td>1.063921e+05</td>\n",
       "      <td>39.761755</td>\n",
       "      <td>-110.836186</td>\n",
       "    </tr>\n",
       "    <tr>\n",
       "      <th>std</th>\n",
       "      <td>228.879064</td>\n",
       "      <td>5.266532</td>\n",
       "      <td>12.877931</td>\n",
       "      <td>2.900439e+05</td>\n",
       "      <td>5.309190</td>\n",
       "      <td>12.887765</td>\n",
       "    </tr>\n",
       "    <tr>\n",
       "      <th>min</th>\n",
       "      <td>1.000000</td>\n",
       "      <td>20.027100</td>\n",
       "      <td>-165.672300</td>\n",
       "      <td>4.600000e+01</td>\n",
       "      <td>19.032689</td>\n",
       "      <td>-166.670685</td>\n",
       "    </tr>\n",
       "    <tr>\n",
       "      <th>25%</th>\n",
       "      <td>11.945000</td>\n",
       "      <td>36.715400</td>\n",
       "      <td>-120.282400</td>\n",
       "      <td>4.930000e+02</td>\n",
       "      <td>36.768908</td>\n",
       "      <td>-120.095775</td>\n",
       "    </tr>\n",
       "    <tr>\n",
       "      <th>50%</th>\n",
       "      <td>51.290000</td>\n",
       "      <td>39.666200</td>\n",
       "      <td>-111.098500</td>\n",
       "      <td>1.645000e+03</td>\n",
       "      <td>39.613766</td>\n",
       "      <td>-111.203646</td>\n",
       "    </tr>\n",
       "    <tr>\n",
       "      <th>75%</th>\n",
       "      <td>100.140000</td>\n",
       "      <td>41.940400</td>\n",
       "      <td>-101.136000</td>\n",
       "      <td>3.543900e+04</td>\n",
       "      <td>42.275391</td>\n",
       "      <td>-100.556920</td>\n",
       "    </tr>\n",
       "    <tr>\n",
       "      <th>max</th>\n",
       "      <td>3261.470000</td>\n",
       "      <td>66.693300</td>\n",
       "      <td>-89.628700</td>\n",
       "      <td>2.383912e+06</td>\n",
       "      <td>67.510267</td>\n",
       "      <td>-88.646366</td>\n",
       "    </tr>\n",
       "  </tbody>\n",
       "</table>\n",
       "</div>"
      ],
      "text/plain": [
       "                amt           lat          long      city_pop     merch_lat  \\\n",
       "count  14383.000000  14383.000000  14383.000000  1.438300e+04  14383.000000   \n",
       "mean     122.719068     39.761571   -110.835395  1.063921e+05     39.761755   \n",
       "std      228.879064      5.266532     12.877931  2.900439e+05      5.309190   \n",
       "min        1.000000     20.027100   -165.672300  4.600000e+01     19.032689   \n",
       "25%       11.945000     36.715400   -120.282400  4.930000e+02     36.768908   \n",
       "50%       51.290000     39.666200   -111.098500  1.645000e+03     39.613766   \n",
       "75%      100.140000     41.940400   -101.136000  3.543900e+04     42.275391   \n",
       "max     3261.470000     66.693300    -89.628700  2.383912e+06     67.510267   \n",
       "\n",
       "         merch_long  \n",
       "count  14383.000000  \n",
       "mean    -110.836186  \n",
       "std       12.887765  \n",
       "min     -166.670685  \n",
       "25%     -120.095775  \n",
       "50%     -111.203646  \n",
       "75%     -100.556920  \n",
       "max      -88.646366  "
      ]
     },
     "execution_count": 11,
     "metadata": {},
     "output_type": "execute_result"
    }
   ],
   "source": [
    "df.describe()"
   ]
  },
  {
   "cell_type": "markdown",
   "id": "b8e50325-2cb2-4311-aaa6-117b32dc5dbb",
   "metadata": {},
   "source": [
    "\n"
   ]
  },
  {
   "cell_type": "markdown",
   "id": "e108c835-3f50-4f68-9822-856f90330cbc",
   "metadata": {},
   "source": [
    "# Seperate the Numerical and Categorical Features"
   ]
  },
  {
   "cell_type": "code",
   "execution_count": 12,
   "id": "8604249c-0361-4278-8e36-38e437beae4d",
   "metadata": {},
   "outputs": [
    {
     "name": "stdout",
     "output_type": "stream",
     "text": [
      "we have 6 numerical feature ['amt', 'lat', 'long', 'city_pop', 'merch_lat', 'merch_long']\n",
      "we have 9 categorical feature ['trans_date_trans_time', 'merchant', 'category', 'city', 'state', 'job', 'dob', 'trans_num', 'is_fraud']\n"
     ]
    }
   ],
   "source": [
    "\n",
    "# define numerical and categorical\n",
    "numerical_feature = [feature for feature in df.columns if df[feature].dtype != 'O']\n",
    "categorical_feature = [feature for feature in df.columns if df[feature].dtype == 'O']\n",
    "# print\n",
    "print(f\"we have {len(numerical_feature)} numerical feature {numerical_feature}\")\n",
    "print(f\"we have {len(categorical_feature)} categorical feature {categorical_feature}\")\n"
   ]
  },
  {
   "cell_type": "markdown",
   "id": "9fbd8151-f92c-45df-b59a-076dfcb4eaf0",
   "metadata": {},
   "source": [
    "\n"
   ]
  },
  {
   "cell_type": "markdown",
   "id": "a427af63-ac94-448c-8549-0356a3fe0f10",
   "metadata": {},
   "source": [
    "\n"
   ]
  },
  {
   "cell_type": "markdown",
   "id": "3145354d-e1c4-4f0f-9cbb-aa6a4aca00bf",
   "metadata": {},
   "source": [
    "\n",
    "# EDA "
   ]
  },
  {
   "cell_type": "code",
   "execution_count": 13,
   "id": "e04391d2-7932-4bd4-aff7-502f164fed75",
   "metadata": {},
   "outputs": [],
   "source": [
    "df2 = df.copy()"
   ]
  },
  {
   "cell_type": "code",
   "execution_count": 14,
   "id": "53514905-19c3-4098-af0a-940e91ec9f76",
   "metadata": {},
   "outputs": [
    {
     "data": {
      "text/html": [
       "<div>\n",
       "<style scoped>\n",
       "    .dataframe tbody tr th:only-of-type {\n",
       "        vertical-align: middle;\n",
       "    }\n",
       "\n",
       "    .dataframe tbody tr th {\n",
       "        vertical-align: top;\n",
       "    }\n",
       "\n",
       "    .dataframe thead th {\n",
       "        text-align: right;\n",
       "    }\n",
       "</style>\n",
       "<table border=\"1\" class=\"dataframe\">\n",
       "  <thead>\n",
       "    <tr style=\"text-align: right;\">\n",
       "      <th></th>\n",
       "      <th>trans_date_trans_time</th>\n",
       "      <th>merchant</th>\n",
       "      <th>category</th>\n",
       "      <th>amt</th>\n",
       "      <th>city</th>\n",
       "      <th>state</th>\n",
       "      <th>lat</th>\n",
       "      <th>long</th>\n",
       "      <th>city_pop</th>\n",
       "      <th>job</th>\n",
       "      <th>dob</th>\n",
       "      <th>trans_num</th>\n",
       "      <th>merch_lat</th>\n",
       "      <th>merch_long</th>\n",
       "      <th>is_fraud</th>\n",
       "    </tr>\n",
       "  </thead>\n",
       "  <tbody>\n",
       "    <tr>\n",
       "      <th>0</th>\n",
       "      <td>04-01-2019 00:58</td>\n",
       "      <td>\"Stokes, Christiansen and Sipes\"</td>\n",
       "      <td>grocery_net</td>\n",
       "      <td>14.37</td>\n",
       "      <td>Wales</td>\n",
       "      <td>AK</td>\n",
       "      <td>64.7556</td>\n",
       "      <td>-165.6723</td>\n",
       "      <td>145</td>\n",
       "      <td>\"Administrator, education\"</td>\n",
       "      <td>09-11-1939</td>\n",
       "      <td>a3806e984cec6ac0096d8184c64ad3a1</td>\n",
       "      <td>65.654142</td>\n",
       "      <td>-164.722603</td>\n",
       "      <td>1</td>\n",
       "    </tr>\n",
       "    <tr>\n",
       "      <th>1</th>\n",
       "      <td>04-01-2019 15:06</td>\n",
       "      <td>Predovic Inc</td>\n",
       "      <td>shopping_net</td>\n",
       "      <td>966.11</td>\n",
       "      <td>Wales</td>\n",
       "      <td>AK</td>\n",
       "      <td>64.7556</td>\n",
       "      <td>-165.6723</td>\n",
       "      <td>145</td>\n",
       "      <td>\"Administrator, education\"</td>\n",
       "      <td>09-11-1939</td>\n",
       "      <td>a59185fe1b9ccf21323f581d7477573f</td>\n",
       "      <td>65.468863</td>\n",
       "      <td>-165.473127</td>\n",
       "      <td>1</td>\n",
       "    </tr>\n",
       "    <tr>\n",
       "      <th>2</th>\n",
       "      <td>04-01-2019 22:37</td>\n",
       "      <td>Wisozk and Sons</td>\n",
       "      <td>misc_pos</td>\n",
       "      <td>49.61</td>\n",
       "      <td>Wales</td>\n",
       "      <td>AK</td>\n",
       "      <td>64.7556</td>\n",
       "      <td>-165.6723</td>\n",
       "      <td>145</td>\n",
       "      <td>\"Administrator, education\"</td>\n",
       "      <td>09-11-1939</td>\n",
       "      <td>86ba3a888b42cd3925881fa34177b4e0</td>\n",
       "      <td>65.347667</td>\n",
       "      <td>-165.914542</td>\n",
       "      <td>1</td>\n",
       "    </tr>\n",
       "    <tr>\n",
       "      <th>3</th>\n",
       "      <td>04-01-2019 23:06</td>\n",
       "      <td>Murray-Smitham</td>\n",
       "      <td>grocery_pos</td>\n",
       "      <td>295.26</td>\n",
       "      <td>Wales</td>\n",
       "      <td>AK</td>\n",
       "      <td>64.7556</td>\n",
       "      <td>-165.6723</td>\n",
       "      <td>145</td>\n",
       "      <td>\"Administrator, education\"</td>\n",
       "      <td>09-11-1939</td>\n",
       "      <td>3a068fe1d856f0ecedbed33e4b5f4496</td>\n",
       "      <td>64.445035</td>\n",
       "      <td>-166.080207</td>\n",
       "      <td>1</td>\n",
       "    </tr>\n",
       "    <tr>\n",
       "      <th>4</th>\n",
       "      <td>04-01-2019 23:59</td>\n",
       "      <td>Friesen Lt</td>\n",
       "      <td>health_fitness</td>\n",
       "      <td>18.17</td>\n",
       "      <td>Wales</td>\n",
       "      <td>AK</td>\n",
       "      <td>64.7556</td>\n",
       "      <td>-165.6723</td>\n",
       "      <td>145</td>\n",
       "      <td>\"Administrator, education\"</td>\n",
       "      <td>09-11-1939</td>\n",
       "      <td>891cdd1191028759dc20dc224347a0ff</td>\n",
       "      <td>65.447094</td>\n",
       "      <td>-165.446843</td>\n",
       "      <td>1</td>\n",
       "    </tr>\n",
       "  </tbody>\n",
       "</table>\n",
       "</div>"
      ],
      "text/plain": [
       "  trans_date_trans_time                          merchant        category  \\\n",
       "0      04-01-2019 00:58  \"Stokes, Christiansen and Sipes\"     grocery_net   \n",
       "1      04-01-2019 15:06                      Predovic Inc    shopping_net   \n",
       "2      04-01-2019 22:37                   Wisozk and Sons        misc_pos   \n",
       "3      04-01-2019 23:06                    Murray-Smitham     grocery_pos   \n",
       "4      04-01-2019 23:59                        Friesen Lt  health_fitness   \n",
       "\n",
       "      amt   city state      lat      long  city_pop  \\\n",
       "0   14.37  Wales    AK  64.7556 -165.6723       145   \n",
       "1  966.11  Wales    AK  64.7556 -165.6723       145   \n",
       "2   49.61  Wales    AK  64.7556 -165.6723       145   \n",
       "3  295.26  Wales    AK  64.7556 -165.6723       145   \n",
       "4   18.17  Wales    AK  64.7556 -165.6723       145   \n",
       "\n",
       "                          job         dob                         trans_num  \\\n",
       "0  \"Administrator, education\"  09-11-1939  a3806e984cec6ac0096d8184c64ad3a1   \n",
       "1  \"Administrator, education\"  09-11-1939  a59185fe1b9ccf21323f581d7477573f   \n",
       "2  \"Administrator, education\"  09-11-1939  86ba3a888b42cd3925881fa34177b4e0   \n",
       "3  \"Administrator, education\"  09-11-1939  3a068fe1d856f0ecedbed33e4b5f4496   \n",
       "4  \"Administrator, education\"  09-11-1939  891cdd1191028759dc20dc224347a0ff   \n",
       "\n",
       "   merch_lat  merch_long is_fraud  \n",
       "0  65.654142 -164.722603        1  \n",
       "1  65.468863 -165.473127        1  \n",
       "2  65.347667 -165.914542        1  \n",
       "3  64.445035 -166.080207        1  \n",
       "4  65.447094 -165.446843        1  "
      ]
     },
     "execution_count": 14,
     "metadata": {},
     "output_type": "execute_result"
    }
   ],
   "source": [
    "df2.head()"
   ]
  },
  {
   "cell_type": "markdown",
   "id": "98b70f7b-a7a9-4e01-afc7-8a0224c5fea0",
   "metadata": {},
   "source": [
    "\n"
   ]
  },
  {
   "cell_type": "markdown",
   "id": "ed11a10d-c6db-426c-be83-cc5492fbcb92",
   "metadata": {},
   "source": [
    "\n"
   ]
  },
  {
   "cell_type": "markdown",
   "id": "01d5004c-96cc-4f80-b2f3-cbfaa011f756",
   "metadata": {},
   "source": [
    "\n"
   ]
  },
  {
   "cell_type": "code",
   "execution_count": 15,
   "id": "7ecf7b66-0c5b-4538-8552-2ca3a5fa9a75",
   "metadata": {},
   "outputs": [
    {
     "data": {
      "text/html": [
       "<div>\n",
       "<style scoped>\n",
       "    .dataframe tbody tr th:only-of-type {\n",
       "        vertical-align: middle;\n",
       "    }\n",
       "\n",
       "    .dataframe tbody tr th {\n",
       "        vertical-align: top;\n",
       "    }\n",
       "\n",
       "    .dataframe thead th {\n",
       "        text-align: right;\n",
       "    }\n",
       "</style>\n",
       "<table border=\"1\" class=\"dataframe\">\n",
       "  <thead>\n",
       "    <tr style=\"text-align: right;\">\n",
       "      <th></th>\n",
       "      <th>trans_date_trans_time</th>\n",
       "      <th>merchant</th>\n",
       "      <th>category</th>\n",
       "      <th>amt</th>\n",
       "      <th>city</th>\n",
       "      <th>state</th>\n",
       "      <th>lat</th>\n",
       "      <th>long</th>\n",
       "      <th>city_pop</th>\n",
       "      <th>job</th>\n",
       "      <th>dob</th>\n",
       "      <th>trans_num</th>\n",
       "      <th>merch_lat</th>\n",
       "      <th>merch_long</th>\n",
       "      <th>is_fraud</th>\n",
       "    </tr>\n",
       "  </thead>\n",
       "  <tbody>\n",
       "    <tr>\n",
       "      <th>0</th>\n",
       "      <td>04-01-2019 00:58</td>\n",
       "      <td>\"Stokes, Christiansen and Sipes\"</td>\n",
       "      <td>grocery_net</td>\n",
       "      <td>14.37</td>\n",
       "      <td>Wales</td>\n",
       "      <td>AK</td>\n",
       "      <td>64.7556</td>\n",
       "      <td>-165.6723</td>\n",
       "      <td>145</td>\n",
       "      <td>\"Administrator, education\"</td>\n",
       "      <td>09-11-1939</td>\n",
       "      <td>a3806e984cec6ac0096d8184c64ad3a1</td>\n",
       "      <td>65.654142</td>\n",
       "      <td>-164.722603</td>\n",
       "      <td>1</td>\n",
       "    </tr>\n",
       "    <tr>\n",
       "      <th>1</th>\n",
       "      <td>04-01-2019 15:06</td>\n",
       "      <td>Predovic Inc</td>\n",
       "      <td>shopping_net</td>\n",
       "      <td>966.11</td>\n",
       "      <td>Wales</td>\n",
       "      <td>AK</td>\n",
       "      <td>64.7556</td>\n",
       "      <td>-165.6723</td>\n",
       "      <td>145</td>\n",
       "      <td>\"Administrator, education\"</td>\n",
       "      <td>09-11-1939</td>\n",
       "      <td>a59185fe1b9ccf21323f581d7477573f</td>\n",
       "      <td>65.468863</td>\n",
       "      <td>-165.473127</td>\n",
       "      <td>1</td>\n",
       "    </tr>\n",
       "    <tr>\n",
       "      <th>2</th>\n",
       "      <td>04-01-2019 22:37</td>\n",
       "      <td>Wisozk and Sons</td>\n",
       "      <td>misc_pos</td>\n",
       "      <td>49.61</td>\n",
       "      <td>Wales</td>\n",
       "      <td>AK</td>\n",
       "      <td>64.7556</td>\n",
       "      <td>-165.6723</td>\n",
       "      <td>145</td>\n",
       "      <td>\"Administrator, education\"</td>\n",
       "      <td>09-11-1939</td>\n",
       "      <td>86ba3a888b42cd3925881fa34177b4e0</td>\n",
       "      <td>65.347667</td>\n",
       "      <td>-165.914542</td>\n",
       "      <td>1</td>\n",
       "    </tr>\n",
       "    <tr>\n",
       "      <th>3</th>\n",
       "      <td>04-01-2019 23:06</td>\n",
       "      <td>Murray-Smitham</td>\n",
       "      <td>grocery_pos</td>\n",
       "      <td>295.26</td>\n",
       "      <td>Wales</td>\n",
       "      <td>AK</td>\n",
       "      <td>64.7556</td>\n",
       "      <td>-165.6723</td>\n",
       "      <td>145</td>\n",
       "      <td>\"Administrator, education\"</td>\n",
       "      <td>09-11-1939</td>\n",
       "      <td>3a068fe1d856f0ecedbed33e4b5f4496</td>\n",
       "      <td>64.445035</td>\n",
       "      <td>-166.080207</td>\n",
       "      <td>1</td>\n",
       "    </tr>\n",
       "    <tr>\n",
       "      <th>4</th>\n",
       "      <td>04-01-2019 23:59</td>\n",
       "      <td>Friesen Lt</td>\n",
       "      <td>health_fitness</td>\n",
       "      <td>18.17</td>\n",
       "      <td>Wales</td>\n",
       "      <td>AK</td>\n",
       "      <td>64.7556</td>\n",
       "      <td>-165.6723</td>\n",
       "      <td>145</td>\n",
       "      <td>\"Administrator, education\"</td>\n",
       "      <td>09-11-1939</td>\n",
       "      <td>891cdd1191028759dc20dc224347a0ff</td>\n",
       "      <td>65.447094</td>\n",
       "      <td>-165.446843</td>\n",
       "      <td>1</td>\n",
       "    </tr>\n",
       "  </tbody>\n",
       "</table>\n",
       "</div>"
      ],
      "text/plain": [
       "  trans_date_trans_time                          merchant        category  \\\n",
       "0      04-01-2019 00:58  \"Stokes, Christiansen and Sipes\"     grocery_net   \n",
       "1      04-01-2019 15:06                      Predovic Inc    shopping_net   \n",
       "2      04-01-2019 22:37                   Wisozk and Sons        misc_pos   \n",
       "3      04-01-2019 23:06                    Murray-Smitham     grocery_pos   \n",
       "4      04-01-2019 23:59                        Friesen Lt  health_fitness   \n",
       "\n",
       "      amt   city state      lat      long  city_pop  \\\n",
       "0   14.37  Wales    AK  64.7556 -165.6723       145   \n",
       "1  966.11  Wales    AK  64.7556 -165.6723       145   \n",
       "2   49.61  Wales    AK  64.7556 -165.6723       145   \n",
       "3  295.26  Wales    AK  64.7556 -165.6723       145   \n",
       "4   18.17  Wales    AK  64.7556 -165.6723       145   \n",
       "\n",
       "                          job         dob                         trans_num  \\\n",
       "0  \"Administrator, education\"  09-11-1939  a3806e984cec6ac0096d8184c64ad3a1   \n",
       "1  \"Administrator, education\"  09-11-1939  a59185fe1b9ccf21323f581d7477573f   \n",
       "2  \"Administrator, education\"  09-11-1939  86ba3a888b42cd3925881fa34177b4e0   \n",
       "3  \"Administrator, education\"  09-11-1939  3a068fe1d856f0ecedbed33e4b5f4496   \n",
       "4  \"Administrator, education\"  09-11-1939  891cdd1191028759dc20dc224347a0ff   \n",
       "\n",
       "   merch_lat  merch_long is_fraud  \n",
       "0  65.654142 -164.722603        1  \n",
       "1  65.468863 -165.473127        1  \n",
       "2  65.347667 -165.914542        1  \n",
       "3  64.445035 -166.080207        1  \n",
       "4  65.447094 -165.446843        1  "
      ]
     },
     "execution_count": 15,
     "metadata": {},
     "output_type": "execute_result"
    }
   ],
   "source": [
    "\n",
    "df2.head()"
   ]
  },
  {
   "cell_type": "markdown",
   "id": "86f14cf6-1ca2-4825-b0d2-bc4598084ebe",
   "metadata": {},
   "source": [
    "\n"
   ]
  },
  {
   "cell_type": "markdown",
   "id": "ba4f8869-1277-4528-bab9-1ec781ff5dcf",
   "metadata": {},
   "source": [
    "\n",
    "### Checking the Categorical Column"
   ]
  },
  {
   "cell_type": "code",
   "execution_count": 16,
   "id": "bc930131-f51a-4f18-bfca-3efa450ac3c3",
   "metadata": {
    "scrolled": true
   },
   "outputs": [
    {
     "name": "stdout",
     "output_type": "stream",
     "text": [
      "The number of merchant:   ['\"Stokes, Christiansen and Sipes\"' 'Predovic Inc' 'Wisozk and Sons'\n",
      " 'Murray-Smitham' 'Friesen Lt' '\"Raynor, Reinger and Hagenes\"'\n",
      " 'Heller-Langosh' 'Padberg-Welch' 'McGlynn-Heathcote' 'Dooley-Thompson'\n",
      " '\"Gottlieb, Considine and Schultz\"' '\"Moen, Reinger and Murphy\"'\n",
      " '\"Hauck, Dietrich and Funk\"' 'Pouros-Haag' 'Goyette Inc'\n",
      " '\"Baumbach, Strosin and Nicolas\"' \"Pacocha-O'Reilly\" 'Barrows PLC'\n",
      " 'Fisher-Schowalte' 'Gleason-Macejkovic' 'Kutch LLC' 'Kihn Inc'\n",
      " 'Kris-Weimann' '\"Kihn, Abernathy and Douglas\"' 'Kiehn-Emmerich'\n",
      " '\"Osinski, Ledner and Leuschke\"' 'Vandervort-Funk' 'Terry-Huel'\n",
      " 'Volkman-Predovic' '\"Roob, Conn and Tremblay\"'\n",
      " '\"Tillman, Fritsch and Schmitt\"' 'Larson-Moen' 'Kutch and Sons'\n",
      " '\"Parisian, Schiller and Altenwerth\"' 'Kozey-Boehm' 'Rau and Sons'\n",
      " 'Parisian and Sons' \"O'Keefe-Hudson\" 'Cassin-Harvey'\n",
      " '\"Schumm, Bauch and Ondrick\"' '\"Towne, Walker and Bore\"' 'Kling-Grant'\n",
      " '\"Jenkins, Hauck and Friesen\"' '\"Baumbach, Hodkiewicz and Walsh\"'\n",
      " 'Beier-Hyatt' '\"Reichert, Huels and Hoppe\"'\n",
      " '\"Konopelski, Schneider and Hartmann\"' 'VonRueden Group'\n",
      " 'Koelpin and Sons' '\"Little, Gutmann and Lynch\"'\n",
      " '\"Reichert, Shanahan and Hayes\"' '\"Monahan, Bogisich and Ledne\"'\n",
      " 'Kutch-Wilderman' '\"Nicolas, Hills and McGlynn\"' 'Boyer PLC'\n",
      " 'Kerluke-Abshire' 'Rempel Inc' 'Shanahan-Lehne' 'Beier LLC'\n",
      " 'Bartoletti and Sons' 'Ankunding-Carroll' 'Wilkinson Lt'\n",
      " '\"Huel, Hammes and Witting\"' 'Kuhic Inc' 'Donnelly PLC' 'Kuhic LLC'\n",
      " 'McDermott-Weimann' 'Friesen Inc' 'DuBuque LLC' 'Hackett-Lueilwitz'\n",
      " 'Kilback LLC' 'Koepp-Parke' 'Kiehn Inc' 'Bauch-Rayno' 'Koepp-Witting'\n",
      " 'Hudson-Ratke' '\"Romaguera, Cruickshank and Greenholt\"'\n",
      " '\"Schoen, Kuphal and Nitzsche\"' 'Mohr-Baye'\n",
      " '\"Schiller, Blanda and Johnson\"' '\"Lang, Towne and Schuppe\"'\n",
      " 'Jacobi and Sons' 'Miller-Harris' 'Abbott-Rogahn' 'Daugherty LLC'\n",
      " 'Torp-Lemke' 'Bernhard Inc' 'Doyle Lt' '\"Hahn, Bahringer and McLaughlin\"'\n",
      " 'Medhurst PLC' '\"Rodriguez, Yost and Jenkins\"' 'Kessler Group'\n",
      " '\"Labadie, Treutel and Bode\"' 'Ruecker Group' '\"Zieme, Bode and Dooley\"'\n",
      " \"Schamberger-O'Keefe\" 'Conroy-Cruickshank' 'Bailey-Mo' 'Huels-Hahn'\n",
      " '\"Schmeler, Bashirian and Price\"' 'Bednar Group' 'Conroy Lt'\n",
      " '\"Towne, Greenholt and Koepp\"' 'Crooks and Sons' 'Zemlak Group'\n",
      " '\"Jones, Sawayn and Romague\"' 'Hills-Witting' 'Bogisich Inc'\n",
      " '\"Adams, Kovacek and Kuhlman\"' 'Ernser-Lynch'\n",
      " '\"Stehr, Jewess and Schimmel\"' 'Schmitt Lt' 'Pouros-Conroy' 'Schuppe LLC'\n",
      " 'Schmidt and Sons' 'Ankunding LLC' 'Denesik and Sons' 'Miller-Hauck'\n",
      " 'Morissette PLC' 'Leffler-Goldne' '\"Welch, Rath and Koepp\"'\n",
      " '\"Zboncak, Rowe and Murazik\"' '\"Ruecker, Beer and Collie\"' 'Kunze Inc'\n",
      " 'Smith-Stokes' 'Volkman Lt' 'Mraz-Herzog' 'Turner and Sons'\n",
      " '\"Terry, Johns and Bins\"' 'Stracke-Lemke' 'Bogisich-Homenick'\n",
      " '\"Christiansen, Goyette and Schamberge\"' 'Wolf Inc' 'Berge LLC'\n",
      " 'Larkin Lt' 'Cormier LLC' '\"Langworth, Boehm and Gulgowski\"'\n",
      " '\"Champlin, Rolfson and Connelly\"' 'Block-Hauck' 'Kunde-Sanfo'\n",
      " 'Ortiz Group' '\"Schultz, Simonis and Little\"' 'Goodwin-Nitzsche'\n",
      " 'Marks Inc' 'Cummings LLC' 'Labadie LLC' '\"Windler, Goodwin and Kovacek\"'\n",
      " 'Douglas-White' '\"Turner, Ziemann and Lehne\"' 'Parker-Kunde'\n",
      " 'Berge-Hills' '\"Moore, Dibbert and Koepp\"' 'Macejkovic-Lesch'\n",
      " 'Collier Inc' 'Ruecker-Mayert' 'Kemmer-Buckridge' 'Wilkinson PLC'\n",
      " 'Dare-Gibson' 'Bahringer-Streich' 'Strosin-Cruickshank' 'Schuppe-Schuppe'\n",
      " 'Barton Inc' 'Sawayn PLC' 'Nienow PLC' '\"Rowe, Batz and Goodwin\"'\n",
      " '\"Stroman, Hudson and Erdman\"' 'Kassulke PLC' 'Hamill-Daugherty'\n",
      " 'Cole PLC' '\"Nitzsche, Kessler and Wol\"' 'Gislason Group'\n",
      " 'McGlynn-Jaskolski' '\"Mosciski, Ziemann and Farrell\"'\n",
      " '\"Baumbach, Feeney and Mo\"' 'Heathcote LLC' 'Fisher Inc'\n",
      " \"O'Connell-Ullrich\" 'Stark-Batz' 'Ledner-Pfannerstill' 'Klein Group'\n",
      " 'Friesen-Stamm' '\"Stanton, Jakubowski and Baumbach\"'\n",
      " '\"Altenwerth, Cartwright and Koss\"' '\"Greenholt, Jacobi and Gleason\"'\n",
      " 'Kerluke PLC' 'Erdman-Kertzmann' 'Kuvalis Lt' 'Lockman Lt'\n",
      " '\"Casper, Hand and Zul\"' 'Pagac LLC' 'Keeling-Crist'\n",
      " '\"Reilly, Heaney and Cole\"' 'Schmitt Inc' 'Prohaska-Murray' 'Harris Inc'\n",
      " 'Bins-Howell' 'Bahringer Group' 'Fadel-Hilpert' '\"Haley, Batz and Aue\"'\n",
      " 'Jacobi Inc' 'Herman Inc' '\"Koss, Hansen and Lueilwitz\"'\n",
      " 'Altenwerth-Kilback' 'Ratke and Sons' 'Durgan-Aue' \"Deckow-O'Conne\"\n",
      " 'Beier and Sons' 'Rutherford-Mertz' '\"Kovacek, Dibbert and Ondrick\"'\n",
      " '\"Kilback, Nitzsche and Leffle\"' 'Cruickshank-Mills' 'Brown PLC'\n",
      " '\"Streich, Hansen and Veum\"' '\"Swift, Bradtke and Marquardt\"'\n",
      " '\"Goldner, Kovacek and Abbott\"' 'Bashirian Group' 'Stoltenberg-Beatty'\n",
      " 'Koss and Sons' 'Stamm-Witting' '\"Quitzon, Green and Bashirian\"'\n",
      " 'Heidenreich PLC' '\"Rippin, Kub and Mann\"' 'Klocko LLC' 'Huel-Langworth'\n",
      " 'Cartwright-Harris' 'Stiedemann Inc' 'Kling Inc' 'Dooley Inc'\n",
      " '\"Bahringer, Bergnaum and Quitzon\"' '\"Douglas, Schneider and Turne\"'\n",
      " 'Mosciski Group' '\"Reichert, Rowe and Mraz\"' 'Welch Inc'\n",
      " '\"Schaefer, McGlynn and Bosco\"' 'Boyer-Reichert' 'Abernathy and Sons'\n",
      " 'Gerlach Inc' 'Corwin-Collins' '\"Watsica, Haag and Considine\"'\n",
      " 'Flatley-Durgan' '\"Mosciski, Gislason and Mertz\"' 'Lemke-Gutmann'\n",
      " 'Kutch-Hegmann' 'Towne LLC' 'Huel Lt' 'Reynolds-Schinne' 'Kuhn LLC'\n",
      " 'Bechtelar-Rippin' '\"Streich, Dietrich and Barton\"' 'Rodriguez Group'\n",
      " '\"Kuhic, Bins and Pfeffe\"' 'Luettgen PLC' 'Renner Lt' 'Swift PLC'\n",
      " 'Thiel PLC' 'Spencer PLC' '\"Wintheiser, Dietrich and Schimmel\"'\n",
      " '\"Bradtke, Torp and Bahringe\"' 'Jewess LLC' 'Dibbert-Green'\n",
      " '\"Willms, Kris and Bergnaum\"' 'Pfeffer and Sons'\n",
      " '\"Greenholt, O\\'Hara and Balistreri\"' 'Kerluke Inc' 'Lebsack and Sons'\n",
      " 'Auer LLC' 'Kulas Group' 'Botsford PLC' 'Jast-McDermott' 'Lynch Lt'\n",
      " 'Botsford Lt' '\"Eichmann, Hayes and Treutel\"' 'Kuphal-Predovic'\n",
      " '\"Lehner, Mosciski and King\"' 'Roob LLC'\n",
      " '\"Streich, Rolfson and Wilderman\"' '\"Nienow, Ankunding and Collie\"'\n",
      " 'Auer-Mosciski' 'Waters-Cruickshank' '\"Kihn, Brakus and Goyette\"'\n",
      " '\"Graham, Hegmann and Hammes\"' '\"McCullough, Hudson and Schuste\"'\n",
      " 'Gottlieb-Hansen' '\"Schuppe, Nolan and Hoege\"' 'Schoen-Quigley'\n",
      " 'Baumbach Lt' 'Block Group' '\"Johnson, Runolfsdottir and Maye\"'\n",
      " 'Harris Group' '\"Weber, Thiel and Hammes\"' 'Skiles LLC' 'Metz-Boehm'\n",
      " \"Friesen-D'Amore\" 'McCullough Group' 'Heller-Abshire' 'Schiller Lt'\n",
      " '\"Hahn, Douglas and Schowalte\"' 'Ullrich Lt' 'Leannon-Nikolaus'\n",
      " '\"McDermott, Osinski and Mo\"' '\"Yost, Schamberger and Windle\"'\n",
      " 'Pacocha-Bauch' '\"Romaguera, Wehner and Tromp\"' 'Bradtke PLC'\n",
      " '\"Lockman, West and Runte\"' '\"Rohan, White and Aufderh\"'\n",
      " '\"Raynor, Feest and Mille\"' '\"Larkin, Stracke and Greenfelde\"'\n",
      " 'Kertzmann LLC' '\"Bahringer, Schoen and Corkery\"' 'Price Inc' 'Mohr Inc'\n",
      " '\"Boehm, Predovic and Reinge\"' 'Cummerata-Jones' 'Padberg-Saue'\n",
      " 'Goyette-Herzog' 'Fahey Inc' '\"Cremin, Hamill and Reichel\"'\n",
      " 'Bartoletti-Wunsch' 'Crona and Sons' 'Dach-Nade' 'Maggio-Fahey'\n",
      " 'Hackett Group' 'Kuphal-Bartoletti' 'Volkman PLC'\n",
      " '\"Hermiston, Pacocha and Smith\"' 'Ziemann-Waters'\n",
      " '\"Runolfsdottir, Mueller and Han\"' '\"Hayes, Marquardt and Dibbert\"'\n",
      " '\"Schaefer, Maggio and Daugherty\"' 'Jaskolski-Vandervort'\n",
      " '\"Okuneva, Schneider and R\"' '\"Bernhard, Grant and Langworth\"'\n",
      " 'Langworth LLC' 'Wilkinson LLC' '\"Heller, Gutmann and Zieme\"'\n",
      " '\"Schroeder, Hauck and Treutel\"' 'Heaney-Marquardt' 'Block-Parisian'\n",
      " '\"Pouros, Walker and Spence\"' '\"Lind, Huel and McClure\"' 'Kris-Padberg'\n",
      " 'Hilpert-Conroy' 'Lind-Buckridge' 'Torphy-Goyette' 'Bogisich-Weimann'\n",
      " 'Lesch Lt' 'Gerhold LLC' '\"Eichmann, Bogan and Rodriguez\"'\n",
      " '\"Haley, Jewess and Bechtel\"' 'Emmerich-Luettgen' 'Abshire PLC'\n",
      " 'Dickinson Lt' '\"Herman, Treutel and Dickens\"'\n",
      " '\"Heathcote, Yost and Kertzmann\"' 'Nader-Helle'\n",
      " '\"Morissette, Weber and Wiegan\"' '\"Goyette, Howell and Collie\"'\n",
      " '\"Berge, Kautzer and Harris\"' 'Harber Inc' 'Kessler Inc' 'Schumm PLC'\n",
      " 'Mayert Group' 'Shields Inc' 'Thompson-Gleason' 'Murray Lt'\n",
      " '\"Kutch, Hermiston and Farrell\"' 'Reilly LLC' 'Johns-Hoege'\n",
      " 'Schmeler Inc' '\"Roberts, Daniel and Macejkovic\"'\n",
      " '\"Witting, Beer and Ernse\"' 'Balistreri-Nade' 'Dare-Marvin' 'Beer-Jast'\n",
      " 'Schimmel-Olson' 'Lynch-Wisozk' 'Kirlin and Sons' 'Torp-Labadie'\n",
      " 'Pacocha-Weissnat' 'Turcotte-Halvorson' 'Sporer Inc' 'Dickinson-Rempel'\n",
      " 'McDermott-Rice' 'Haag-Blan' 'Fritsch and Sons'\n",
      " '\"Klocko, Runolfsdottir and Breitenberg\"' 'Morissette LLC'\n",
      " 'Breitenberg LLC' 'Friesen-Ortiz' 'Waelchi Inc' 'Kling-Ernse'\n",
      " 'Hoppe-Parisian' '\"Turner, Ruecker and Parisian\"'\n",
      " '\"Swaniawski, Lowe and Robel\"' '\"Ferry, Lynch and Kautze\"'\n",
      " 'Kozey-McDermott' 'Dicki Lt' 'Hammes-Beatty'\n",
      " '\"Kerluke, Considine and Macejkovic\"' 'Veum-Koelpin' 'Nolan-Williamson'\n",
      " 'Jast Lt' 'Watsica LLC' '\"Feil, Hilpert and Koss\"'\n",
      " '\"Connelly, Reichert and Fritsch\"' 'Christiansen-Gusikowski' 'Auer-West'\n",
      " '\"Schneider, Hayes and Nikolaus\"' 'Emard Inc'\n",
      " '\"Cormier, Stracke and Thiel\"' '\"Wuckert, Wintheiser and Friesen\"'\n",
      " 'Buckridge PLC' '\"Moore, Williamson and Emmerich\"' 'Windler LLC'\n",
      " '\"Lowe, Dietrich and Erdman\"' 'Champlin and Sons' 'Ernser-Feest'\n",
      " 'Kautzer and Sons' 'Pollich LLC' 'Abbott-Steube' 'Bernhard-Lesch'\n",
      " 'Weber and Sons' 'Bode-Rempel' '\"Gutmann, McLaughlin and Wiz\"'\n",
      " 'Little Lt' 'Roob-Okunev' 'Emmerich-R' 'Stark-Koss' 'White and Sons'\n",
      " '\"Monahan, Hermann and Johns\"' 'Jast and Sons' 'Hirthe-Beie'\n",
      " 'Jakubowski Group' '\"Nienow, Barrows and Romague\"' 'Hermann-Gaylo'\n",
      " 'Bins-Rice' 'Jakubowski Inc' '\"Kerluke, Kertzmann and Wiz\"' 'Marvin-Lin'\n",
      " '\"Daugherty, Pouros and Beahan\"' 'Medhurst Inc'\n",
      " '\"Weimann, Kuhic and Beahan\"' '\"Lakin, Ferry and Beatty\"' 'Herzog Lt'\n",
      " 'Connelly PLC' 'Gibson-Deckow' 'Erdman-Durgan'\n",
      " '\"Ledner, Hartmann and Feest\"' '\"Conroy, Balistreri and Gorczany\"'\n",
      " 'Stiedemann Lt' 'Rau-Robel' 'Streich Lt' '\"Crist, Jakubowski and Littel\"'\n",
      " '\"Effertz, Welch and Schowalte\"' 'Schaefer Lt'\n",
      " '\"Mueller, Gerhold and Muelle\"' 'Zulauf LLC'\n",
      " '\"Koss, McLaughlin and Maye\"' '\"Bernier, Streich and Jewess\"'\n",
      " \"O'Keefe-Wisoky\" 'Gaylord-Powlowski' 'Reichel Inc'\n",
      " '\"Hyatt, Russel and Gleichne\"' 'Mante Group' '\"Olson, Becker and Koch\"'\n",
      " 'Erdman-Ebert' 'Stamm-Rodriguez' 'Shields-Wunsch' 'Corwin-Romague'\n",
      " 'Spencer-Runolfsson' 'Hermann and Sons' 'Barton LLC'\n",
      " '\"Hagenes, Hermann and Stroman\"' '\"Swaniawski, Nitzsche and Welch\"'\n",
      " 'Reilly and Sons' 'Homenick LLC' 'Bednar Inc' 'Nader-Maggio'\n",
      " 'Erdman-Schaden' 'Hyatt-Blick' 'Haley Group' 'Little-Gleichne'\n",
      " '\"Ferry, Reichel and DuBuque\"' 'Eichmann-Russel'\n",
      " '\"Lehner, Reichert and Mills\"' 'Donnelly LLC' 'Corwin-Gorczany'\n",
      " 'Weimann-Lockman' 'Rolfson-Kunde' 'Kutch Group' 'Tromp Group'\n",
      " 'Breitenberg-Hermiston' '\"Langosh, Wintheiser and Hyatt\"' 'Spinka-Welch'\n",
      " 'Tillman LLC' 'Satterfield-Lowe' 'Brekke and Sons'\n",
      " '\"Bernier, Volkman and Hoege\"' 'Johnston-Caspe' 'Rau-Grant' 'Huels-Nolan'\n",
      " 'Bruen-Yost' 'Kilback and Sons' 'Kassulke Inc' 'Gutmann-Upton'\n",
      " '\"Schroeder, Wolff and Hermiston\"' '\"Yost, Block and Koepp\"'\n",
      " 'Kris-Kertzmann' '\"Prosacco, Kreiger and Kovacek\"'\n",
      " '\"Roberts, Ryan and Smith\"' 'Goyette-Gerhol' 'Grimes LLC' 'Schoen Lt'\n",
      " 'Daugherty-Thompson' '\"Boehm, Block and Jakubowski\"' 'Dibbert and Sons'\n",
      " 'Wuckert-Goldne' 'Hills-Boye' 'Brown Inc' 'Connelly-Carte'\n",
      " '\"Durgan, Gislason and Spence\"' 'Osinski Inc' '\"Metz, Russel and Metz\"'\n",
      " 'Schulist Lt' 'Berge-Ullrich' 'Schmeler-Howe' '\"Fadel, Mertz and Rippin\"'\n",
      " '\"Kling, Howe and Schneide\"' '\"Larson, Quitzon and Spence\"'\n",
      " '\"Cronin, Kshlerin and Webe\"' 'Morissette-Schaefe' 'Rippin-VonRueden'\n",
      " '\"Hoppe, Harris and Bedn\"' 'Cummerata-Hilpert' 'Feil-Mo' 'Deckow-Dare'\n",
      " 'Kutch-Ferry' '\"Brown, Homenick and Lesch\"' 'Padberg-Rogahn' 'Kub PLC'\n",
      " '\"Mante, Luettgen and Hackett\"' 'Dietrich-Fadel' 'Leannon-W'\n",
      " 'Kozey-Kuhlman' '\"Schumm, McLaughlin and Carte\"'\n",
      " '\"Hermiston, Russel and Price\"' 'Carroll PLC' 'Kihn-Fritsch'\n",
      " 'McKenzie-Huels' 'Bernier and Sons' '\"Medhurst, Labadie and Gottlieb\"'\n",
      " '\"Greenfelder, Bartoletti and Davis\"' 'Treutel-King' 'Yost-Rogahn'\n",
      " 'Jaskolski-Dibbert' 'Trantow PLC' '\"Harris, Gusikowski and Heaney\"'\n",
      " 'Bahringer-Larson' 'Halvorson Group' '\"Robel, Cummerata and Prosacco\"'\n",
      " '\"Wiza, Schaden and Stark\"' 'Gutmann Lt' 'Runolfsson and Sons'\n",
      " '\"Johnston, Nikolaus and Maggio\"' 'Simonis-Prohask' 'Kemmer-Reinge'\n",
      " '\"Tromp, Kerluke and Glove\"' 'Roberts-Beahan' 'Morar Inc' 'Paucek-Wiz'\n",
      " '\"Tillman, Dickinson and Labadie\"' 'Pfeffer LLC' 'Wuckert-Walte'\n",
      " 'Skiles-Ankunding' 'Wiza LLC' 'Gleason and Sons'\n",
      " '\"Dare, Fritsch and Zboncak\"' 'Quitzon-Goyette' 'Kub-Heaney' 'Heller PLC'\n",
      " '\"Hills, Hegmann and Schaefe\"' '\"Runte, Green and Em\"' 'Fadel Inc'\n",
      " '\"Bahringer, Osinski and Block\"' 'Johns Inc' 'Bins-Tillman'\n",
      " '\"Cole, Hills and Jewess\"' '\"Denesik, Powlowski and Pouros\"'\n",
      " 'Greenholt Lt' '\"Hodkiewicz, Prohaska and Paucek\"'\n",
      " '\"Parker, Nolan and Trantow\"' 'Lubowitz-Walte'\n",
      " '\"O\\'Reilly, Mohr and Purdy\"' '\"Hintz, Bauch and Smith\"'\n",
      " '\"Lesch, D\\'Amore and Brown\"' 'Kovacek Lt' 'Sporer-Keeble' 'Hudson-Grady'\n",
      " '\"Hartmann, Rowe and Hermann\"' 'McCullough LLC' 'Botsford and Sons'\n",
      " 'Waelchi-Wol' 'Champlin-Caspe' '\"Bins, Balistreri and Beatty\"'\n",
      " 'Gottlieb Group' 'Adams-Barrows' 'Bednar PLC' 'Upton PLC' 'Collier LLC'\n",
      " 'Howe PLC' 'Graham and Sons' '\"Reinger, Weissnat and Strosin\"'\n",
      " 'Turner LLC' 'Effertz LLC' \"Hamill-D'Amore\" '\"Schaefer, Fay and Hilll\"'\n",
      " '\"Medhurst, Cartwright and Ebert\"' 'Cartwright PLC' \"O'Hara-Wilderman\"\n",
      " 'Kuphal-Toy' '\"Turcotte, Batz and Buckridge\"'\n",
      " '\"Hagenes, Kohler and Hoppe\"' '\"O\\'Connell, Botsford and Han\"'\n",
      " 'Thiel-Thiel' 'Boyer-Haley' 'Kilback Group'\n",
      " '\"Rutherford, Homenick and Bergstrom\"' 'Cummings Group' 'Funk Group'\n",
      " 'Spinka Inc' 'Smitham-Schille' 'Hills-Olson' 'Howe Lt' 'Runte-Moh'\n",
      " 'Will Lt' 'Goldner-Lemke' '\"Kohler, Lindgren and Koelpin\"' 'Rempel PLC'\n",
      " 'Brown-Greenholt' 'Hintz-Bruen' 'Kihn-Schuste' 'Romaguera and Sons'\n",
      " '\"Schoen, Nienow and Bauch\"' 'Torphy-Kertzmann' '\"Torp, Muller and Bore\"'\n",
      " 'Conroy-Em' '\"Walter, Hettinger and Kessle\"'\n",
      " '\"Kutch, Steuber and Gerhol\"' '\"Dare, Casper and Bartoletti\"'\n",
      " 'Zboncak Lt' '\"Armstrong, Walter and Gottlieb\"' 'Prosacco LLC'\n",
      " '\"Turcotte, McKenzie and Koss\"' 'Ebert-Daugherty' 'Hickle Group'\n",
      " 'Gulgowski LLC' 'Kuhn Group' 'Romaguera Lt' 'Powlowski-Weimann'\n",
      " 'Reichert-Weissnat' 'Williamson LLC' '\"Swaniawski, Bahringer and Ledne\"'\n",
      " 'Flatley Group' 'Rowe-Vandervort' '\"Lubowitz, Terry and Stracke\"'\n",
      " '\"Hettinger, McCullough and Fay\"' 'Monahan-Mo' 'Eichmann-Kilback'\n",
      " 'Reichel LLC' 'Zboncak LLC' 'Terry Lt' 'Frami Group'\n",
      " '\"Zemlak, Tillman and Cremin\"' '\"Becker, Harris and Harvey\"'\n",
      " 'Bode-Schuste' 'Dach-Bore' '\"Kunze, Larkin and Mayert\"' 'Fritsch LLC'\n",
      " 'Thiel Lt' 'Schmidt-Larkin' 'Lynch-Moh' 'Bauch-Blan' 'Schroeder Group'\n",
      " '\"Douglas, DuBuque and McKenzie\"' 'Lemke and Sons' 'Smitham-Boehm'\n",
      " '\"Ritchie, Oberbrunner and Cremin\"' '\"McLaughlin, Armstrong and Koepp\"'\n",
      " '\"Reichel, Bradtke and Blan\"' 'Wiegand-Lowe'\n",
      " '\"Ritchie, Bradtke and Stiedemann\"' 'Jerde-Hermann']\n",
      "====================================\n",
      "The number of category:    ['grocery_net' 'shopping_net' 'misc_pos' 'grocery_pos' 'health_fitness'\n",
      " 'gas_transport' 'misc_net' 'kids_pets' 'shopping_pos' 'entertainment'\n",
      " 'food_dining' 'home' 'personal_care' 'travel']\n",
      "=====================================\n",
      "The number of City:   ['Wales' 'Browning' 'Ravenna' 'San Jose' 'Westerville' 'Thompson'\n",
      " 'Parker Dam' 'San Diego' 'Centerview' 'Vacaville' 'La Grande'\n",
      " 'Port Costa' 'Meadville' 'Alva' 'Lowell' 'Albuquerque' 'Lamy' 'Hubbell'\n",
      " 'Fort Washakie' 'Saint Louis' 'Kansas City' 'Arnold' 'Mesa' 'Daly City'\n",
      " 'Lonetree' 'Napa' 'Kaktovik' 'Coulee Dam' 'Aurora' 'Utica' 'Roseland'\n",
      " 'Newhall' 'Fields Landing' 'June Lake' 'Eugene' 'Blairsden-Graeagle'\n",
      " 'Pueblo' 'Campbell' 'Moab' 'Tomales' 'Red Cliff' 'Downey' 'Smith River'\n",
      " 'Riverton' 'Conway' 'Syracuse' 'Grenada' 'Jelm' 'Unionville'\n",
      " 'Scotts Mills' 'Cardwell' 'Manley' 'Lagrange' 'American Fork'\n",
      " 'Rock Springs' 'Tekoa' 'Independence' 'Sun City' 'Arvada' 'Williamsburg'\n",
      " 'Monitor' 'Sacramento' 'Claremont' 'Hawthorne' 'Valentine' 'Matthews'\n",
      " 'Helm' 'Kent' 'Glendale' 'Humboldt' 'Colorado Springs' 'Fiddletown'\n",
      " 'Omaha' 'Yellowstone National Park' 'Phoenix' 'Nelson' 'Colton'\n",
      " 'Moriarty' 'Parker' 'Wappapello' 'Westfir' 'Kissee Mills' 'Parks'\n",
      " 'Greenview' 'Seattle' 'Howells' 'Pleasant Hill' 'Meredith' 'Crownpoint'\n",
      " 'Paauilo' 'Brashear' 'Rocky Mount' 'Huntington Beach' 'Fullerton'\n",
      " 'Powell Butte' 'Laguna Hills' 'Wendel' 'Redford' 'Vinton' 'Sixes'\n",
      " 'Gardiner' 'Shedd' 'Weeping Water' 'Carroll' 'High Rolls Mountain Park'\n",
      " 'Los Angeles' 'Mendon' 'Red River' 'Oakland' 'Clarksville' 'Athena'\n",
      " 'Dumont' 'Ashford' 'Bay City' 'Iliff' 'Buellton' 'Superior' 'Norwalk'\n",
      " 'North Loup' 'Hatch' 'Burbank' 'Louisiana' 'Kirk' 'Indian Wells'\n",
      " 'Espanola' 'Angwin' 'Broomfield' 'Corona' 'Holstein' 'Huslia'\n",
      " 'Jordan Valley' 'Freedom' 'Brainard' 'Burlington' 'Altonah' 'Issaquah'\n",
      " 'Littleton' 'Sprague' 'Odessa' 'Vancouver' 'Honokaa' 'Lake Oswego'\n",
      " 'Portland' 'Santa Monica' 'Sutherland' 'Owensville' 'Manville' 'Hooper'\n",
      " 'Luray' 'Loving' 'Newberg' 'Meridian' 'Mound City' 'Palmdale' 'Ruidoso'\n",
      " 'Blairstown' 'Azusa' 'Kirtland' 'Laramie' 'Seligman' 'Mountain Center'\n",
      " 'Llano' 'Camden' 'Paradise Valley' 'Malad City' 'Cascade Locks'\n",
      " 'Spirit Lake' 'Stayton' 'Craig' 'Orient' 'Carlotta' 'Lakeport' 'Ballwin'\n",
      " 'Wheaton' 'Woods Cross' 'Kirtland Afb']\n",
      "================================================\n",
      "The number of state:   ['AK' 'MO' 'NE' 'CA' 'UT' 'OR' 'WY' 'NM' 'AZ' 'WA' 'CO' 'ID' 'HI']\n",
      "================================================\n",
      "The number of job:   ['\"Administrator, education\"' 'Cytogeneticist' '\"Solicitor, Scotland\"'\n",
      " 'Science writer' 'Product designer' '\"Surveyor, minerals\"'\n",
      " 'Marketing executive' 'Comptroller' 'Electronics engineer'\n",
      " 'Clinical cytogeneticist' '\"Engineer, site\"'\n",
      " 'Armed forces training and education officer'\n",
      " 'Tourist information centre manager' '\"Administrator, local government\"'\n",
      " 'Systems analyst' 'Charity officer' 'Public relations account executive'\n",
      " 'Set designer' 'Information systems manager' 'Occupational hygienist'\n",
      " 'Counsellor' 'Land/geomatics surveyor' 'Landscape architect'\n",
      " '\"Buyer, industrial\"' 'Research scientist (physical sciences)'\n",
      " 'Airline pilot' 'Careers information officer' '\"Pilot, airline\"'\n",
      " 'Industrial/product designer' '\"Nurse, mental health\"' 'Health physicist'\n",
      " '\"Scientist, audiological\"' 'Health service manager'\n",
      " '\"Scientist, physiological\"' 'Cartographer'\n",
      " 'Chartered legal executive (England and Wales)'\n",
      " 'Civil Service administrator' 'Further education lecturer'\n",
      " 'Location manager' 'Occupational psychologist' 'Human resources officer'\n",
      " 'Fine artist' 'Web designer' '\"Lecturer, higher education\"'\n",
      " '\"Research officer, political party\"' 'Geoscientist'\n",
      " '\"Radiographer, diagnostic\"' 'Public librarian'\n",
      " '\"Investment banker, corporate\"' '\"Engineer, petroleum\"'\n",
      " 'Television floor manager' 'Product/process development scientist'\n",
      " 'Futures trader' 'Music therapist' 'Clothing/textile technologist'\n",
      " '\"Engineer, production\"' '\"Designer, exhibition/display\"' 'Hotel manager'\n",
      " 'Glass blower/designer' 'Medical technical officer'\n",
      " 'Magazine features editor' 'Wellsite geologist'\n",
      " '\"Editor, magazine features\"' 'Network engineer' 'Aeronautical engineer'\n",
      " 'Early years teacher' 'Museum education officer'\n",
      " '\"Accountant, chartered\"' '\"Civil engineer, contracting\"'\n",
      " 'Museum/gallery exhibitions officer' 'Immigration officer'\n",
      " '\"Surveyor, land/geomatics\"' 'Materials engineer' 'Contractor'\n",
      " 'Television/film/video producer' 'Chief Marketing Officer'\n",
      " '\"Scientist, marine\"' '\"Therapist, art\"' 'Research scientist (medical)'\n",
      " 'Forensic psychologist' '\"Engineer, agricultural\"'\n",
      " '\"Geologist, engineering\"' 'Call centre manager'\n",
      " '\"Development worker, international aid\"' 'Research scientist (maths)'\n",
      " 'Information officer' 'IT consultant' '\"Scientist, research (maths)\"'\n",
      " 'Private music teacher' 'Tax inspector' '\"Therapist, horticultural\"'\n",
      " '\"Surveyor, mining\"' 'Freight forwarder' 'Local government officer'\n",
      " 'Sales executive' '\"Teacher, adult education\"' 'Investment analyst'\n",
      " 'Education administrator' 'Retail merchandiser' '\"Engineer, maintenance\"'\n",
      " 'Radio broadcast assistant' 'Dealer' 'Metallurgist' 'Naval architect'\n",
      " '\"Journalist, newspaper\"' 'Barista' 'Exercise physiologist'\n",
      " 'Mental health nurse' 'Video editor' 'Colour technologist'\n",
      " 'Community arts worker' 'Soil scientist' 'Nature conservation officer'\n",
      " 'Petroleum engineer' 'Firefighter' '\"Nurse, children\\'s\"' 'Musician'\n",
      " '\"Teacher, early years/pre\"' 'Learning mentor'\n",
      " 'Historic buildings inspector/conservation officer'\n",
      " '\"Engineer, electronics\"' 'Telecommunications researcher'\n",
      " '\"Engineer, civil (consulting)\"' 'Economist' '\"Pharmacist, hospital\"'\n",
      " '\"Education officer, museum\"' 'Associate Professor'\n",
      " 'Public house manager' '\"Sales professional, IT\"' 'Osteopath'\n",
      " 'Water engineer' 'Chiropodist' 'Clinical research associate'\n",
      " 'Teaching laboratory technician' 'Physiotherapist'\n",
      " 'Planning and development surveyor' '\"Engineer, building services\"'\n",
      " 'Insurance broker' 'Educational psychologist' '\"Engineer, automotive\"'\n",
      " 'Town planner' 'Intelligence analyst' 'Architect' 'Chemical engineer'\n",
      " 'Licensed conveyancer' 'Agricultural consultant'\n",
      " 'Civil Service fast streamer' 'TEFL teacher' '\"Engineer, biomedical\"'\n",
      " '\"Therapist, music\"' 'Architectural technologist'\n",
      " 'Counselling psychologist' 'Building surveyor' 'Systems developer'\n",
      " 'Barrister' 'Production manager' 'Commissioning editor'\n",
      " 'Advertising account planner' 'Special educational needs teacher'\n",
      " '\"Therapist, occupational\"' 'Podiatrist' '\"Engineer, communications\"'\n",
      " 'Chartered public finance accountant']\n",
      "================================================\n"
     ]
    }
   ],
   "source": [
    "\n",
    "print(f\"The number of merchant:   {df2['merchant'].unique()}\")\n",
    "print(\"====================================\")\n",
    "\n",
    "print(f\"The number of category:    {df2['category'].unique()}\")\n",
    "print(\"=====================================\")\n",
    "\n",
    "print(f\"The number of City:   {df2['city'].unique()}\")\n",
    "print(\"================================================\")\n",
    "\n",
    "print(f\"The number of state:   {df2['state'].unique()}\")\n",
    "print(\"================================================\")\n",
    "\n",
    "print(f\"The number of job:   {df2['job'].unique()}\")\n",
    "print(\"================================================\")\n"
   ]
  },
  {
   "cell_type": "markdown",
   "id": "1fd31313-5e3d-4761-94d7-61030301cd01",
   "metadata": {},
   "source": [
    "\n"
   ]
  },
  {
   "cell_type": "code",
   "execution_count": 17,
   "id": "cb9c6ca6-b8f4-4754-b688-f09b1289cd33",
   "metadata": {},
   "outputs": [
    {
     "name": "stdout",
     "output_type": "stream",
     "text": [
      "trans_date_trans_time\n",
      "21-01-2019 23:09    0.034763\n",
      "27-12-2020 12:46    0.034763\n",
      "29-12-2020 16:57    0.034763\n",
      "26-12-2020 23:29    0.034763\n",
      "29-12-2020 08:37    0.034763\n",
      "                      ...   \n",
      "28-12-2020 20:24    0.006953\n",
      "28-12-2020 20:26    0.006953\n",
      "28-12-2020 20:28    0.006953\n",
      "28-12-2020 20:30    0.006953\n",
      "22-01-2019 00:55    0.006953\n",
      "Name: proportion, Length: 12126, dtype: float64\n",
      "--------------------------------\n",
      "merchant\n",
      "Kilback LLC          0.403254\n",
      "Cormier LLC          0.333727\n",
      "Kutch and Sons       0.312869\n",
      "Rau and Sons         0.298964\n",
      "McDermott-Weimann    0.292011\n",
      "                       ...   \n",
      "Lemke and Sons       0.027811\n",
      "Jaskolski-Dibbert    0.027811\n",
      "Wiegand-Lowe         0.027811\n",
      "Jerde-Hermann        0.027811\n",
      "Kovacek Lt           0.020858\n",
      "Name: proportion, Length: 693, dtype: float64\n",
      "--------------------------------\n",
      "category\n",
      "grocery_pos       11.061670\n",
      "gas_transport      9.900577\n",
      "shopping_net       9.685045\n",
      "shopping_pos       9.365223\n",
      "home               9.059306\n",
      "kids_pets          7.926024\n",
      "personal_care      6.869221\n",
      "entertainment      6.598067\n",
      "health_fitness     6.187861\n",
      "food_dining        6.041855\n",
      "misc_pos           5.708128\n",
      "misc_net           5.666412\n",
      "grocery_net        3.260794\n",
      "travel             2.669819\n",
      "Name: proportion, dtype: float64\n",
      "--------------------------------\n",
      "city\n",
      "Phoenix          2.064938\n",
      "Centerview       1.369673\n",
      "Orient           1.334909\n",
      "Sutherland       1.300146\n",
      "Fort Washakie    1.300146\n",
      "                   ...   \n",
      "Downey           0.069527\n",
      "Pleasant Hill    0.055621\n",
      "Buellton         0.055621\n",
      "Wappapello       0.055621\n",
      "Vacaville        0.048669\n",
      "Name: proportion, Length: 176, dtype: float64\n",
      "--------------------------------\n",
      "state\n",
      "CA    23.402628\n",
      "MO    16.157964\n",
      "NE     9.997914\n",
      "OR     8.419662\n",
      "WA     7.995550\n",
      "WY     7.647918\n",
      "NM     6.973510\n",
      "CO     5.951470\n",
      "AZ     4.679135\n",
      "UT     4.067302\n",
      "ID     2.412570\n",
      "HI     1.195856\n",
      "AK     1.098519\n",
      "Name: proportion, dtype: float64\n",
      "--------------------------------\n",
      "job\n",
      "\"Surveyor, minerals\"            1.738163\n",
      "\"Surveyor, land/geomatics\"      1.668637\n",
      "Land/geomatics surveyor         1.564347\n",
      "Insurance broker                1.453104\n",
      "Electronics engineer            1.369673\n",
      "                                  ...   \n",
      "Landscape architect             0.062574\n",
      "Systems developer               0.062574\n",
      "Research scientist (medical)    0.055621\n",
      "Information officer             0.055621\n",
      "Clinical cytogeneticist         0.048669\n",
      "Name: proportion, Length: 163, dtype: float64\n",
      "--------------------------------\n",
      "dob\n",
      "17-07-1989    1.369673\n",
      "21-06-1978    1.334909\n",
      "24-10-1981    1.321004\n",
      "11-02-1982    1.300146\n",
      "28-10-1987    1.272335\n",
      "                ...   \n",
      "08-11-1940    0.062574\n",
      "10-08-1932    0.055621\n",
      "28-05-1946    0.055621\n",
      "27-07-1957    0.055621\n",
      "25-06-1970    0.048669\n",
      "Name: proportion, Length: 187, dtype: float64\n",
      "--------------------------------\n",
      "trans_num\n",
      "a3806e984cec6ac0096d8184c64ad3a1    0.006953\n",
      "71155d42d65c61cc864671d1ddd51281    0.006953\n",
      "6d6338ec95b5b7d457e2cc83acc5b14c    0.006953\n",
      "c56b691966a49e7742c0efc2ffe96b70    0.006953\n",
      "54dedc941fdf9222c7c7808eedd8c340    0.006953\n",
      "                                      ...   \n",
      "63dac353a22364ff0b40f412e92bed97    0.006953\n",
      "7340e008bec1a7edcddd7f380d0e3197    0.006953\n",
      "62d7382555b4252e72e88f5fde99ca2c    0.006953\n",
      "c28dd625038d558117f46f42d6ebfb14    0.006953\n",
      "65e7370f473f9b9d75796c8033a7c929    0.006953\n",
      "Name: proportion, Length: 14383, dtype: float64\n",
      "--------------------------------\n",
      "is_fraud\n",
      "0                         87.603421\n",
      "1                         12.382674\n",
      "1\"2020-12-24 16:56:24\"     0.006953\n",
      "0\"2019-01-01 00:00:44\"     0.006953\n",
      "Name: proportion, dtype: float64\n",
      "--------------------------------\n"
     ]
    }
   ],
   "source": [
    "\n",
    "# proportion of count data \n",
    "for col in categorical_feature:\n",
    "    print(df[col].value_counts(normalize=True)*100)\n",
    "    print(\"--------------------------------\")"
   ]
  },
  {
   "cell_type": "markdown",
   "id": "037a9e87-0b60-47a4-8589-da2894484c69",
   "metadata": {},
   "source": [
    "\n"
   ]
  },
  {
   "cell_type": "markdown",
   "id": "ff7c5967-da65-44b1-b229-95b37e49a4f2",
   "metadata": {},
   "source": [
    "\n",
    "### Droping the waste columns like:\n",
    "\n",
    "1. trans_date_trans_time\n",
    "\n",
    "2. dob\n",
    "\n",
    "3. trans_num"
   ]
  },
  {
   "cell_type": "code",
   "execution_count": 18,
   "id": "84e227f3-655c-4321-88e3-75ebd01aeb9c",
   "metadata": {},
   "outputs": [],
   "source": [
    "df2.drop(['trans_num','trans_date_trans_time','dob'],axis=1,inplace=True)"
   ]
  },
  {
   "cell_type": "markdown",
   "id": "302eaf2b-ea06-4a6d-b7cc-f620aa8eac20",
   "metadata": {},
   "source": [
    "### Statistics Technique using on the Categorical feature"
   ]
  },
  {
   "cell_type": "code",
   "execution_count": 22,
   "id": "9748c4a2-732c-4a85-9472-acd5d5893ce7",
   "metadata": {},
   "outputs": [],
   "source": [
    "categorical_feature.remove('trans_date_trans_time')"
   ]
  },
  {
   "cell_type": "code",
   "execution_count": 24,
   "id": "db6cb335-5cf0-4a91-bcf4-593ace527ce5",
   "metadata": {},
   "outputs": [],
   "source": [
    "categorical_feature.remove('dob')"
   ]
  },
  {
   "cell_type": "code",
   "execution_count": 26,
   "id": "c6096b8e-19de-454f-a080-413498e187a4",
   "metadata": {},
   "outputs": [],
   "source": [
    "categorical_feature.remove('trans_num')"
   ]
  },
  {
   "cell_type": "code",
   "execution_count": 27,
   "id": "82daf1ee-d6c9-4284-9bf3-199a8578ecc8",
   "metadata": {},
   "outputs": [
    {
     "data": {
      "text/html": [
       "<div>\n",
       "<style scoped>\n",
       "    .dataframe tbody tr th:only-of-type {\n",
       "        vertical-align: middle;\n",
       "    }\n",
       "\n",
       "    .dataframe tbody tr th {\n",
       "        vertical-align: top;\n",
       "    }\n",
       "\n",
       "    .dataframe thead th {\n",
       "        text-align: right;\n",
       "    }\n",
       "</style>\n",
       "<table border=\"1\" class=\"dataframe\">\n",
       "  <thead>\n",
       "    <tr style=\"text-align: right;\">\n",
       "      <th></th>\n",
       "      <th>column</th>\n",
       "      <th>Hypothesis Result</th>\n",
       "    </tr>\n",
       "  </thead>\n",
       "  <tbody>\n",
       "    <tr>\n",
       "      <th>0</th>\n",
       "      <td>merchant</td>\n",
       "      <td>Reject Null hypothesis</td>\n",
       "    </tr>\n",
       "    <tr>\n",
       "      <th>1</th>\n",
       "      <td>category</td>\n",
       "      <td>Reject Null hypothesis</td>\n",
       "    </tr>\n",
       "    <tr>\n",
       "      <th>2</th>\n",
       "      <td>city</td>\n",
       "      <td>Reject Null hypothesis</td>\n",
       "    </tr>\n",
       "    <tr>\n",
       "      <th>3</th>\n",
       "      <td>state</td>\n",
       "      <td>Reject Null hypothesis</td>\n",
       "    </tr>\n",
       "    <tr>\n",
       "      <th>4</th>\n",
       "      <td>job</td>\n",
       "      <td>Reject Null hypothesis</td>\n",
       "    </tr>\n",
       "    <tr>\n",
       "      <th>5</th>\n",
       "      <td>is_fraud</td>\n",
       "      <td>Reject Null hypothesis</td>\n",
       "    </tr>\n",
       "  </tbody>\n",
       "</table>\n",
       "</div>"
      ],
      "text/plain": [
       "     column       Hypothesis Result\n",
       "0  merchant  Reject Null hypothesis\n",
       "1  category  Reject Null hypothesis\n",
       "2      city  Reject Null hypothesis\n",
       "3     state  Reject Null hypothesis\n",
       "4       job  Reject Null hypothesis\n",
       "5  is_fraud  Reject Null hypothesis"
      ]
     },
     "execution_count": 27,
     "metadata": {},
     "output_type": "execute_result"
    }
   ],
   "source": [
    "from scipy.stats import chi2_contingency\n",
    "\n",
    "chi_test=[]\n",
    "\n",
    "for col in categorical_feature:\n",
    "    if chi2_contingency(pd.crosstab(df2['is_fraud'],df2[col]))[1]<0.05:\n",
    "        chi_test.append('Reject Null hypothesis')\n",
    "    else:\n",
    "        chi_test.append('Fail to reject null hypothesis')\n",
    "\n",
    "result = pd.DataFrame(data=[categorical_feature,chi_test]).T\n",
    "result.columns = ['column','Hypothesis Result']\n",
    "result"
   ]
  },
  {
   "cell_type": "code",
   "execution_count": 28,
   "id": "6b37b0b9-30cc-4158-bf76-f5f35ac93546",
   "metadata": {},
   "outputs": [
    {
     "data": {
      "text/html": [
       "<div>\n",
       "<style scoped>\n",
       "    .dataframe tbody tr th:only-of-type {\n",
       "        vertical-align: middle;\n",
       "    }\n",
       "\n",
       "    .dataframe tbody tr th {\n",
       "        vertical-align: top;\n",
       "    }\n",
       "\n",
       "    .dataframe thead th {\n",
       "        text-align: right;\n",
       "    }\n",
       "</style>\n",
       "<table border=\"1\" class=\"dataframe\">\n",
       "  <thead>\n",
       "    <tr style=\"text-align: right;\">\n",
       "      <th></th>\n",
       "      <th>merchant</th>\n",
       "      <th>category</th>\n",
       "      <th>amt</th>\n",
       "      <th>city</th>\n",
       "      <th>state</th>\n",
       "      <th>lat</th>\n",
       "      <th>long</th>\n",
       "      <th>city_pop</th>\n",
       "      <th>job</th>\n",
       "      <th>merch_lat</th>\n",
       "      <th>merch_long</th>\n",
       "      <th>is_fraud</th>\n",
       "    </tr>\n",
       "  </thead>\n",
       "  <tbody>\n",
       "    <tr>\n",
       "      <th>0</th>\n",
       "      <td>\"Stokes, Christiansen and Sipes\"</td>\n",
       "      <td>grocery_net</td>\n",
       "      <td>14.37</td>\n",
       "      <td>Wales</td>\n",
       "      <td>AK</td>\n",
       "      <td>64.7556</td>\n",
       "      <td>-165.6723</td>\n",
       "      <td>145</td>\n",
       "      <td>\"Administrator, education\"</td>\n",
       "      <td>65.654142</td>\n",
       "      <td>-164.722603</td>\n",
       "      <td>1</td>\n",
       "    </tr>\n",
       "    <tr>\n",
       "      <th>1</th>\n",
       "      <td>Predovic Inc</td>\n",
       "      <td>shopping_net</td>\n",
       "      <td>966.11</td>\n",
       "      <td>Wales</td>\n",
       "      <td>AK</td>\n",
       "      <td>64.7556</td>\n",
       "      <td>-165.6723</td>\n",
       "      <td>145</td>\n",
       "      <td>\"Administrator, education\"</td>\n",
       "      <td>65.468863</td>\n",
       "      <td>-165.473127</td>\n",
       "      <td>1</td>\n",
       "    </tr>\n",
       "    <tr>\n",
       "      <th>2</th>\n",
       "      <td>Wisozk and Sons</td>\n",
       "      <td>misc_pos</td>\n",
       "      <td>49.61</td>\n",
       "      <td>Wales</td>\n",
       "      <td>AK</td>\n",
       "      <td>64.7556</td>\n",
       "      <td>-165.6723</td>\n",
       "      <td>145</td>\n",
       "      <td>\"Administrator, education\"</td>\n",
       "      <td>65.347667</td>\n",
       "      <td>-165.914542</td>\n",
       "      <td>1</td>\n",
       "    </tr>\n",
       "    <tr>\n",
       "      <th>3</th>\n",
       "      <td>Murray-Smitham</td>\n",
       "      <td>grocery_pos</td>\n",
       "      <td>295.26</td>\n",
       "      <td>Wales</td>\n",
       "      <td>AK</td>\n",
       "      <td>64.7556</td>\n",
       "      <td>-165.6723</td>\n",
       "      <td>145</td>\n",
       "      <td>\"Administrator, education\"</td>\n",
       "      <td>64.445035</td>\n",
       "      <td>-166.080207</td>\n",
       "      <td>1</td>\n",
       "    </tr>\n",
       "    <tr>\n",
       "      <th>4</th>\n",
       "      <td>Friesen Lt</td>\n",
       "      <td>health_fitness</td>\n",
       "      <td>18.17</td>\n",
       "      <td>Wales</td>\n",
       "      <td>AK</td>\n",
       "      <td>64.7556</td>\n",
       "      <td>-165.6723</td>\n",
       "      <td>145</td>\n",
       "      <td>\"Administrator, education\"</td>\n",
       "      <td>65.447094</td>\n",
       "      <td>-165.446843</td>\n",
       "      <td>1</td>\n",
       "    </tr>\n",
       "  </tbody>\n",
       "</table>\n",
       "</div>"
      ],
      "text/plain": [
       "                           merchant        category     amt   city state  \\\n",
       "0  \"Stokes, Christiansen and Sipes\"     grocery_net   14.37  Wales    AK   \n",
       "1                      Predovic Inc    shopping_net  966.11  Wales    AK   \n",
       "2                   Wisozk and Sons        misc_pos   49.61  Wales    AK   \n",
       "3                    Murray-Smitham     grocery_pos  295.26  Wales    AK   \n",
       "4                        Friesen Lt  health_fitness   18.17  Wales    AK   \n",
       "\n",
       "       lat      long  city_pop                         job  merch_lat  \\\n",
       "0  64.7556 -165.6723       145  \"Administrator, education\"  65.654142   \n",
       "1  64.7556 -165.6723       145  \"Administrator, education\"  65.468863   \n",
       "2  64.7556 -165.6723       145  \"Administrator, education\"  65.347667   \n",
       "3  64.7556 -165.6723       145  \"Administrator, education\"  64.445035   \n",
       "4  64.7556 -165.6723       145  \"Administrator, education\"  65.447094   \n",
       "\n",
       "   merch_long is_fraud  \n",
       "0 -164.722603        1  \n",
       "1 -165.473127        1  \n",
       "2 -165.914542        1  \n",
       "3 -166.080207        1  \n",
       "4 -165.446843        1  "
      ]
     },
     "execution_count": 28,
     "metadata": {},
     "output_type": "execute_result"
    }
   ],
   "source": [
    "df2.head()"
   ]
  },
  {
   "cell_type": "markdown",
   "id": "71a9dbfd-2b54-40ed-8359-111afe0eb7c6",
   "metadata": {},
   "source": [
    "### Merchant Column"
   ]
  },
  {
   "cell_type": "code",
   "execution_count": 29,
   "id": "03992672-c0e4-4c9d-9f5d-c339a066a33c",
   "metadata": {},
   "outputs": [
    {
     "data": {
      "image/png": "[encoded data removed]",
      "text/plain": [
       "<Figure size 1200x400 with 1 Axes>"
      ]
     },
     "metadata": {},
     "output_type": "display_data"
    }
   ],
   "source": [
    "\n",
    "plt.figure(figsize=(12,4))\n",
    "df2['merchant'].value_counts()[:20].plot(kind='bar')\n",
    "plt.xlabel('Merchant',size=22)\n",
    "plt.ylabel('Count',size=22)\n",
    "plt.show()\n"
   ]
  },
  {
   "cell_type": "markdown",
   "id": "39336cd6-813b-470a-8871-c689626961e9",
   "metadata": {},
   "source": [
    "### Category Column"
   ]
  },
  {
   "cell_type": "code",
   "execution_count": 30,
   "id": "a28a6998-b95c-46bb-ad5c-fcab42448347",
   "metadata": {},
   "outputs": [
    {
     "data": {
      "text/plain": [
       "category\n",
       "grocery_pos       1591\n",
       "gas_transport     1424\n",
       "shopping_net      1393\n",
       "shopping_pos      1347\n",
       "home              1303\n",
       "kids_pets         1140\n",
       "personal_care      988\n",
       "entertainment      949\n",
       "health_fitness     890\n",
       "food_dining        869\n",
       "misc_pos           821\n",
       "misc_net           815\n",
       "grocery_net        469\n",
       "travel             384\n",
       "Name: count, dtype: int64"
      ]
     },
     "execution_count": 30,
     "metadata": {},
     "output_type": "execute_result"
    }
   ],
   "source": [
    "\n",
    "df2['category'].value_counts()"
   ]
  },
  {
   "cell_type": "code",
   "execution_count": 31,
   "id": "d4b38fa3-cf10-45db-b878-57e79a9c142b",
   "metadata": {},
   "outputs": [
    {
     "data": {
      "image/png": "[encoded data removed]",
      "text/plain": [
       "<Figure size 1000x500 with 1 Axes>"
      ]
     },
     "metadata": {},
     "output_type": "display_data"
    }
   ],
   "source": [
    "\n",
    "plt.figure(figsize=(10,5))\n",
    "df2['category'].value_counts().plot(kind='bar')\n",
    "plt.xlabel('Category',size=22)\n",
    "plt.ylabel('Count',size=22)\n",
    "plt.show()\n"
   ]
  },
  {
   "cell_type": "markdown",
   "id": "cd19c34f-8b11-4020-bebe-33037adec4cc",
   "metadata": {},
   "source": [
    "### Amt"
   ]
  },
  {
   "cell_type": "code",
   "execution_count": 32,
   "id": "5cba6101-0b4a-43e7-9d14-dceea961139a",
   "metadata": {},
   "outputs": [
    {
     "data": {
      "image/png": "[encoded data removed]",
      "text/plain": [
       "<Figure size 1000x500 with 1 Axes>"
      ]
     },
     "metadata": {},
     "output_type": "display_data"
    }
   ],
   "source": [
    "\n",
    "plt.figure(figsize=(10,5))\n",
    "sns.histplot(x='amt',data=df2)\n",
    "plt.xlabel('Amt',size=22)\n",
    "plt.ylabel('Count',size=22)\n",
    "plt.show()\n"
   ]
  },
  {
   "cell_type": "code",
   "execution_count": 33,
   "id": "c57da9ab-8887-4743-ada6-9edb4438c988",
   "metadata": {},
   "outputs": [
    {
     "data": {
      "image/png": "[encoded data removed]",
      "text/plain": [
       "<Figure size 640x480 with 1 Axes>"
      ]
     },
     "metadata": {},
     "output_type": "display_data"
    }
   ],
   "source": [
    "\n",
    "sns.distplot(df2['amt'])\n",
    "plt.xlabel('Amt',size=22)\n",
    "plt.ylabel('Density',size=22)\n",
    "plt.show()\n"
   ]
  },
  {
   "cell_type": "markdown",
   "id": "2e27415a-7e1d-4090-b9f0-e5d3ed3840ef",
   "metadata": {},
   "source": [
    "### City"
   ]
  },
  {
   "cell_type": "code",
   "execution_count": 34,
   "id": "c96a1f53-d56e-4b73-89fd-0ae8d0b52a4a",
   "metadata": {},
   "outputs": [
    {
     "data": {
      "text/plain": [
       "city\n",
       "Phoenix          297\n",
       "Centerview       197\n",
       "Orient           192\n",
       "Sutherland       187\n",
       "Fort Washakie    187\n",
       "                ... \n",
       "Downey            10\n",
       "Pleasant Hill      8\n",
       "Buellton           8\n",
       "Wappapello         8\n",
       "Vacaville          7\n",
       "Name: count, Length: 176, dtype: int64"
      ]
     },
     "execution_count": 34,
     "metadata": {},
     "output_type": "execute_result"
    }
   ],
   "source": [
    "\n",
    "df2['city'].value_counts()"
   ]
  },
  {
   "cell_type": "code",
   "execution_count": 35,
   "id": "2a294e81-edec-4633-96b6-6c7022955291",
   "metadata": {},
   "outputs": [
    {
     "data": {
      "image/png": "[encoded data removed]",
      "text/plain": [
       "<Figure size 1000x400 with 1 Axes>"
      ]
     },
     "metadata": {},
     "output_type": "display_data"
    }
   ],
   "source": [
    "plt.figure(figsize=(10,4))\n",
    "df2['city'].value_counts()[:20].plot(kind='bar')\n",
    "plt.xlabel('City',size=22)\n",
    "plt.ylabel('Count',size=22)\n",
    "plt.show()\n"
   ]
  },
  {
   "cell_type": "markdown",
   "id": "3e28c5ec-90db-4e98-8002-de9f6c857f62",
   "metadata": {},
   "source": [
    "### State"
   ]
  },
  {
   "cell_type": "code",
   "execution_count": 36,
   "id": "0e46dd56-1077-4a81-bc07-f8988b56467b",
   "metadata": {},
   "outputs": [
    {
     "data": {
      "text/plain": [
       "state\n",
       "CA    3366\n",
       "MO    2324\n",
       "NE    1438\n",
       "OR    1211\n",
       "WA    1150\n",
       "WY    1100\n",
       "NM    1003\n",
       "CO     856\n",
       "AZ     673\n",
       "UT     585\n",
       "ID     347\n",
       "HI     172\n",
       "AK     158\n",
       "Name: count, dtype: int64"
      ]
     },
     "execution_count": 36,
     "metadata": {},
     "output_type": "execute_result"
    }
   ],
   "source": [
    "\n",
    "df2['state'].value_counts()"
   ]
  },
  {
   "cell_type": "code",
   "execution_count": 37,
   "id": "1b454e99-70ed-4cec-a4dc-d4b534c333e9",
   "metadata": {},
   "outputs": [
    {
     "data": {
      "image/png": "[encoded data removed]",
      "text/plain": [
       "<Figure size 1200x500 with 1 Axes>"
      ]
     },
     "metadata": {},
     "output_type": "display_data"
    }
   ],
   "source": [
    "\n",
    "plt.figure(figsize=(12,5))\n",
    "df2['state'].value_counts().plot(kind='bar')\n",
    "plt.xlabel('State',size=22)\n",
    "plt.ylabel('Count',size=22)\n",
    "plt.xticks(rotation='horizontal')\n",
    "plt.show()"
   ]
  },
  {
   "cell_type": "markdown",
   "id": "c3d0630f-5b7f-4668-922c-24004d11521b",
   "metadata": {},
   "source": [
    "\n"
   ]
  },
  {
   "cell_type": "markdown",
   "id": "bb5c1fd5-f8a2-4fb7-a183-dd9af332924a",
   "metadata": {},
   "source": [
    "### lat"
   ]
  },
  {
   "cell_type": "code",
   "execution_count": 38,
   "id": "7c9cd9ed-f9d3-4aec-8a46-28932e6ef108",
   "metadata": {},
   "outputs": [
    {
     "data": {
      "image/png": "[encoded data removed]",
      "text/plain": [
       "<Figure size 640x480 with 1 Axes>"
      ]
     },
     "metadata": {},
     "output_type": "display_data"
    }
   ],
   "source": [
    "\n",
    "sns.distplot(df2['lat'])\n",
    "plt.xlabel('lat',size=22)\n",
    "plt.ylabel('Density',size=22)\n",
    "plt.show()"
   ]
  },
  {
   "cell_type": "markdown",
   "id": "507aefef-6aea-45d8-89b5-464b98db9522",
   "metadata": {},
   "source": [
    "### long"
   ]
  },
  {
   "cell_type": "code",
   "execution_count": 39,
   "id": "80d2a8bb-0b96-456f-9381-33da83b971b4",
   "metadata": {},
   "outputs": [
    {
     "data": {
      "image/png": "[encoded data removed]",
      "text/plain": [
       "<Figure size 640x480 with 1 Axes>"
      ]
     },
     "metadata": {},
     "output_type": "display_data"
    }
   ],
   "source": [
    "\n",
    "sns.distplot(df2['long'])\n",
    "plt.xlabel('long',size=22)\n",
    "plt.ylabel('Density',size=22)\n",
    "plt.show()\n"
   ]
  },
  {
   "cell_type": "markdown",
   "id": "f39e4edf-14a4-4db8-b941-3f3f3b32e97e",
   "metadata": {},
   "source": [
    "\n"
   ]
  },
  {
   "cell_type": "markdown",
   "id": "3fca852d-8594-4b31-83f5-2bb0a2fa5071",
   "metadata": {},
   "source": [
    "\n",
    "# Job"
   ]
  },
  {
   "cell_type": "code",
   "execution_count": 40,
   "id": "5b90cc52-3713-42ca-8f7d-337d75249279",
   "metadata": {},
   "outputs": [
    {
     "data": {
      "text/plain": [
       "job\n",
       "\"Surveyor, minerals\"            250\n",
       "\"Surveyor, land/geomatics\"      240\n",
       "Land/geomatics surveyor         225\n",
       "Insurance broker                209\n",
       "Electronics engineer            197\n",
       "                               ... \n",
       "Landscape architect               9\n",
       "Systems developer                 9\n",
       "Research scientist (medical)      8\n",
       "Information officer               8\n",
       "Clinical cytogeneticist           7\n",
       "Name: count, Length: 163, dtype: int64"
      ]
     },
     "execution_count": 40,
     "metadata": {},
     "output_type": "execute_result"
    }
   ],
   "source": [
    "\n",
    "df2['job'].value_counts()"
   ]
  },
  {
   "cell_type": "code",
   "execution_count": 41,
   "id": "0ed94105-4a1e-4c89-8e48-83542e1c3c4a",
   "metadata": {},
   "outputs": [
    {
     "data": {
      "image/png": "[encoded data removed]",
      "text/plain": [
       "<Figure size 1000x400 with 1 Axes>"
      ]
     },
     "metadata": {},
     "output_type": "display_data"
    }
   ],
   "source": [
    "\n",
    "plt.figure(figsize=(10,4))\n",
    "df2['job'].value_counts()[:20].plot(kind='bar')\n",
    "plt.xlabel('Job',size=22)\n",
    "plt.ylabel('Count',size=22)\n",
    "plt.show()\n"
   ]
  },
  {
   "cell_type": "markdown",
   "id": "2f1ae640-f285-4347-ae68-ceda7086d907",
   "metadata": {},
   "source": [
    "\n"
   ]
  },
  {
   "cell_type": "markdown",
   "id": "f37c48f6-0de3-4e0a-868d-e7024f52d558",
   "metadata": {},
   "source": [
    "\n",
    "# Feature Enginering"
   ]
  },
  {
   "cell_type": "markdown",
   "id": "fec629d7-9f7e-46fd-82ba-abe168d4b572",
   "metadata": {},
   "source": [
    "### Show Top 5 Rows"
   ]
  },
  {
   "cell_type": "code",
   "execution_count": 42,
   "id": "ff646ee4-5e7a-4900-87de-0bb106cbe908",
   "metadata": {},
   "outputs": [
    {
     "data": {
      "text/html": [
       "<div>\n",
       "<style scoped>\n",
       "    .dataframe tbody tr th:only-of-type {\n",
       "        vertical-align: middle;\n",
       "    }\n",
       "\n",
       "    .dataframe tbody tr th {\n",
       "        vertical-align: top;\n",
       "    }\n",
       "\n",
       "    .dataframe thead th {\n",
       "        text-align: right;\n",
       "    }\n",
       "</style>\n",
       "<table border=\"1\" class=\"dataframe\">\n",
       "  <thead>\n",
       "    <tr style=\"text-align: right;\">\n",
       "      <th></th>\n",
       "      <th>merchant</th>\n",
       "      <th>category</th>\n",
       "      <th>amt</th>\n",
       "      <th>city</th>\n",
       "      <th>state</th>\n",
       "      <th>lat</th>\n",
       "      <th>long</th>\n",
       "      <th>city_pop</th>\n",
       "      <th>job</th>\n",
       "      <th>merch_lat</th>\n",
       "      <th>merch_long</th>\n",
       "      <th>is_fraud</th>\n",
       "    </tr>\n",
       "  </thead>\n",
       "  <tbody>\n",
       "    <tr>\n",
       "      <th>0</th>\n",
       "      <td>\"Stokes, Christiansen and Sipes\"</td>\n",
       "      <td>grocery_net</td>\n",
       "      <td>14.37</td>\n",
       "      <td>Wales</td>\n",
       "      <td>AK</td>\n",
       "      <td>64.7556</td>\n",
       "      <td>-165.6723</td>\n",
       "      <td>145</td>\n",
       "      <td>\"Administrator, education\"</td>\n",
       "      <td>65.654142</td>\n",
       "      <td>-164.722603</td>\n",
       "      <td>1</td>\n",
       "    </tr>\n",
       "    <tr>\n",
       "      <th>1</th>\n",
       "      <td>Predovic Inc</td>\n",
       "      <td>shopping_net</td>\n",
       "      <td>966.11</td>\n",
       "      <td>Wales</td>\n",
       "      <td>AK</td>\n",
       "      <td>64.7556</td>\n",
       "      <td>-165.6723</td>\n",
       "      <td>145</td>\n",
       "      <td>\"Administrator, education\"</td>\n",
       "      <td>65.468863</td>\n",
       "      <td>-165.473127</td>\n",
       "      <td>1</td>\n",
       "    </tr>\n",
       "    <tr>\n",
       "      <th>2</th>\n",
       "      <td>Wisozk and Sons</td>\n",
       "      <td>misc_pos</td>\n",
       "      <td>49.61</td>\n",
       "      <td>Wales</td>\n",
       "      <td>AK</td>\n",
       "      <td>64.7556</td>\n",
       "      <td>-165.6723</td>\n",
       "      <td>145</td>\n",
       "      <td>\"Administrator, education\"</td>\n",
       "      <td>65.347667</td>\n",
       "      <td>-165.914542</td>\n",
       "      <td>1</td>\n",
       "    </tr>\n",
       "    <tr>\n",
       "      <th>3</th>\n",
       "      <td>Murray-Smitham</td>\n",
       "      <td>grocery_pos</td>\n",
       "      <td>295.26</td>\n",
       "      <td>Wales</td>\n",
       "      <td>AK</td>\n",
       "      <td>64.7556</td>\n",
       "      <td>-165.6723</td>\n",
       "      <td>145</td>\n",
       "      <td>\"Administrator, education\"</td>\n",
       "      <td>64.445035</td>\n",
       "      <td>-166.080207</td>\n",
       "      <td>1</td>\n",
       "    </tr>\n",
       "    <tr>\n",
       "      <th>4</th>\n",
       "      <td>Friesen Lt</td>\n",
       "      <td>health_fitness</td>\n",
       "      <td>18.17</td>\n",
       "      <td>Wales</td>\n",
       "      <td>AK</td>\n",
       "      <td>64.7556</td>\n",
       "      <td>-165.6723</td>\n",
       "      <td>145</td>\n",
       "      <td>\"Administrator, education\"</td>\n",
       "      <td>65.447094</td>\n",
       "      <td>-165.446843</td>\n",
       "      <td>1</td>\n",
       "    </tr>\n",
       "  </tbody>\n",
       "</table>\n",
       "</div>"
      ],
      "text/plain": [
       "                           merchant        category     amt   city state  \\\n",
       "0  \"Stokes, Christiansen and Sipes\"     grocery_net   14.37  Wales    AK   \n",
       "1                      Predovic Inc    shopping_net  966.11  Wales    AK   \n",
       "2                   Wisozk and Sons        misc_pos   49.61  Wales    AK   \n",
       "3                    Murray-Smitham     grocery_pos  295.26  Wales    AK   \n",
       "4                        Friesen Lt  health_fitness   18.17  Wales    AK   \n",
       "\n",
       "       lat      long  city_pop                         job  merch_lat  \\\n",
       "0  64.7556 -165.6723       145  \"Administrator, education\"  65.654142   \n",
       "1  64.7556 -165.6723       145  \"Administrator, education\"  65.468863   \n",
       "2  64.7556 -165.6723       145  \"Administrator, education\"  65.347667   \n",
       "3  64.7556 -165.6723       145  \"Administrator, education\"  64.445035   \n",
       "4  64.7556 -165.6723       145  \"Administrator, education\"  65.447094   \n",
       "\n",
       "   merch_long is_fraud  \n",
       "0 -164.722603        1  \n",
       "1 -165.473127        1  \n",
       "2 -165.914542        1  \n",
       "3 -166.080207        1  \n",
       "4 -165.446843        1  "
      ]
     },
     "execution_count": 42,
     "metadata": {},
     "output_type": "execute_result"
    }
   ],
   "source": [
    "df2.head()"
   ]
  },
  {
   "cell_type": "markdown",
   "id": "e9ab5a20-74b6-43be-aabd-4db0da91018a",
   "metadata": {},
   "source": [
    "\n"
   ]
  },
  {
   "cell_type": "markdown",
   "id": "12990253-fa44-41c1-a8ae-751073849fd6",
   "metadata": {},
   "source": [
    "Based on the EDA I'll drop the few columns\n",
    "\n",
    "1. merchant\n",
    "\n",
    "2. state"
   ]
  },
  {
   "cell_type": "code",
   "execution_count": 43,
   "id": "3d170901-df7c-49ce-b812-af135c8a734a",
   "metadata": {},
   "outputs": [],
   "source": [
    "\n",
    "df2.drop(['merchant','state'],axis=1,inplace=True)"
   ]
  },
  {
   "cell_type": "markdown",
   "id": "fd0c865d-67c3-4dfa-bd5f-bd97114b7c40",
   "metadata": {},
   "source": [
    "\n"
   ]
  },
  {
   "cell_type": "code",
   "execution_count": 44,
   "id": "bd3a8a06-de02-458e-b39a-b94077e80d7f",
   "metadata": {},
   "outputs": [
    {
     "data": {
      "text/html": [
       "<div>\n",
       "<style scoped>\n",
       "    .dataframe tbody tr th:only-of-type {\n",
       "        vertical-align: middle;\n",
       "    }\n",
       "\n",
       "    .dataframe tbody tr th {\n",
       "        vertical-align: top;\n",
       "    }\n",
       "\n",
       "    .dataframe thead th {\n",
       "        text-align: right;\n",
       "    }\n",
       "</style>\n",
       "<table border=\"1\" class=\"dataframe\">\n",
       "  <thead>\n",
       "    <tr style=\"text-align: right;\">\n",
       "      <th></th>\n",
       "      <th>category</th>\n",
       "      <th>amt</th>\n",
       "      <th>city</th>\n",
       "      <th>lat</th>\n",
       "      <th>long</th>\n",
       "      <th>city_pop</th>\n",
       "      <th>job</th>\n",
       "      <th>merch_lat</th>\n",
       "      <th>merch_long</th>\n",
       "      <th>is_fraud</th>\n",
       "    </tr>\n",
       "  </thead>\n",
       "  <tbody>\n",
       "    <tr>\n",
       "      <th>0</th>\n",
       "      <td>grocery_net</td>\n",
       "      <td>14.37</td>\n",
       "      <td>Wales</td>\n",
       "      <td>64.7556</td>\n",
       "      <td>-165.6723</td>\n",
       "      <td>145</td>\n",
       "      <td>\"Administrator, education\"</td>\n",
       "      <td>65.654142</td>\n",
       "      <td>-164.722603</td>\n",
       "      <td>1</td>\n",
       "    </tr>\n",
       "    <tr>\n",
       "      <th>1</th>\n",
       "      <td>shopping_net</td>\n",
       "      <td>966.11</td>\n",
       "      <td>Wales</td>\n",
       "      <td>64.7556</td>\n",
       "      <td>-165.6723</td>\n",
       "      <td>145</td>\n",
       "      <td>\"Administrator, education\"</td>\n",
       "      <td>65.468863</td>\n",
       "      <td>-165.473127</td>\n",
       "      <td>1</td>\n",
       "    </tr>\n",
       "    <tr>\n",
       "      <th>2</th>\n",
       "      <td>misc_pos</td>\n",
       "      <td>49.61</td>\n",
       "      <td>Wales</td>\n",
       "      <td>64.7556</td>\n",
       "      <td>-165.6723</td>\n",
       "      <td>145</td>\n",
       "      <td>\"Administrator, education\"</td>\n",
       "      <td>65.347667</td>\n",
       "      <td>-165.914542</td>\n",
       "      <td>1</td>\n",
       "    </tr>\n",
       "    <tr>\n",
       "      <th>3</th>\n",
       "      <td>grocery_pos</td>\n",
       "      <td>295.26</td>\n",
       "      <td>Wales</td>\n",
       "      <td>64.7556</td>\n",
       "      <td>-165.6723</td>\n",
       "      <td>145</td>\n",
       "      <td>\"Administrator, education\"</td>\n",
       "      <td>64.445035</td>\n",
       "      <td>-166.080207</td>\n",
       "      <td>1</td>\n",
       "    </tr>\n",
       "    <tr>\n",
       "      <th>4</th>\n",
       "      <td>health_fitness</td>\n",
       "      <td>18.17</td>\n",
       "      <td>Wales</td>\n",
       "      <td>64.7556</td>\n",
       "      <td>-165.6723</td>\n",
       "      <td>145</td>\n",
       "      <td>\"Administrator, education\"</td>\n",
       "      <td>65.447094</td>\n",
       "      <td>-165.446843</td>\n",
       "      <td>1</td>\n",
       "    </tr>\n",
       "  </tbody>\n",
       "</table>\n",
       "</div>"
      ],
      "text/plain": [
       "         category     amt   city      lat      long  city_pop  \\\n",
       "0     grocery_net   14.37  Wales  64.7556 -165.6723       145   \n",
       "1    shopping_net  966.11  Wales  64.7556 -165.6723       145   \n",
       "2        misc_pos   49.61  Wales  64.7556 -165.6723       145   \n",
       "3     grocery_pos  295.26  Wales  64.7556 -165.6723       145   \n",
       "4  health_fitness   18.17  Wales  64.7556 -165.6723       145   \n",
       "\n",
       "                          job  merch_lat  merch_long is_fraud  \n",
       "0  \"Administrator, education\"  65.654142 -164.722603        1  \n",
       "1  \"Administrator, education\"  65.468863 -165.473127        1  \n",
       "2  \"Administrator, education\"  65.347667 -165.914542        1  \n",
       "3  \"Administrator, education\"  64.445035 -166.080207        1  \n",
       "4  \"Administrator, education\"  65.447094 -165.446843        1  "
      ]
     },
     "execution_count": 44,
     "metadata": {},
     "output_type": "execute_result"
    }
   ],
   "source": [
    "df2.head()"
   ]
  },
  {
   "cell_type": "markdown",
   "id": "ba7ecaa8-a18f-4db8-94cf-3b9ee6dd7691",
   "metadata": {},
   "source": [
    "\n"
   ]
  },
  {
   "cell_type": "markdown",
   "id": "77e82101-4114-47d5-8328-b4f4f4e36263",
   "metadata": {},
   "source": [
    "\n",
    "### In City column select a threshold is 100\n",
    "\n",
    "Convert Less then 100 city to others city"
   ]
  },
  {
   "cell_type": "code",
   "execution_count": 45,
   "id": "cdff118a-3eb4-4889-a703-4d7c52b97bfb",
   "metadata": {
    "scrolled": true
   },
   "outputs": [],
   "source": [
    "city_count = df2['city'].value_counts()"
   ]
  },
  {
   "cell_type": "code",
   "execution_count": 46,
   "id": "f2bd477f-2593-4d39-a105-8dc387a47074",
   "metadata": {},
   "outputs": [],
   "source": [
    "keep_city = city_count[city_count>=100].index\n",
    "\n",
    "def function_city(text):\n",
    "    if text in keep_city:\n",
    "        return text\n",
    "    else:\n",
    "        return \"Others city\"\n",
    "\n",
    "df2['city'] = df2['city'].apply(function_city)"
   ]
  },
  {
   "cell_type": "code",
   "execution_count": 47,
   "id": "35df71c8-1e4f-4a84-b562-dad283282b53",
   "metadata": {},
   "outputs": [
    {
     "data": {
      "text/plain": [
       "city\n",
       "Others city     6190\n",
       "Phoenix          297\n",
       "Centerview       197\n",
       "Orient           192\n",
       "Sutherland       187\n",
       "                ... \n",
       "Ruidoso          105\n",
       "Santa Monica     104\n",
       "Athena           103\n",
       "Laramie          101\n",
       "Lowell           100\n",
       "Name: count, Length: 61, dtype: int64"
      ]
     },
     "execution_count": 47,
     "metadata": {},
     "output_type": "execute_result"
    }
   ],
   "source": [
    "df2['city'].value_counts()"
   ]
  },
  {
   "cell_type": "markdown",
   "id": "fc884824-0dca-4b5d-976d-54e10cfbac2e",
   "metadata": {},
   "source": [
    "\n",
    "### In Job feature select a threshold is 100\n",
    "\n",
    "convert Less then 100 jobs to the Other Jobs"
   ]
  },
  {
   "cell_type": "code",
   "execution_count": 48,
   "id": "5bdd9056-f639-4f15-a923-bf39196f35db",
   "metadata": {
    "scrolled": true
   },
   "outputs": [],
   "source": [
    "job_num = df2['job'].value_counts()"
   ]
  },
  {
   "cell_type": "code",
   "execution_count": 49,
   "id": "f27b1bde-a398-4f6a-8b55-c9f10dc4b5e3",
   "metadata": {},
   "outputs": [],
   "source": [
    "keep_job = job_num[job_num>=100].index\n",
    "def function_job(text):\n",
    "    if text in keep_job:\n",
    "        return text\n",
    "    else:\n",
    "        return \"Others Jobs\"\n",
    "\n",
    "df2['job'] = df2['job'].apply(function_job)\n"
   ]
  },
  {
   "cell_type": "code",
   "execution_count": 50,
   "id": "90006c81-a90e-454f-9a97-f4f593a18dd6",
   "metadata": {},
   "outputs": [
    {
     "data": {
      "text/plain": [
       "job\n",
       "Others Jobs                   5224\n",
       "\"Surveyor, minerals\"           250\n",
       "\"Surveyor, land/geomatics\"     240\n",
       "Land/geomatics surveyor        225\n",
       "Insurance broker               209\n",
       "                              ... \n",
       "Town planner                   106\n",
       "\"Engineer, production\"         106\n",
       "Airline pilot                  106\n",
       "Licensed conveyancer           105\n",
       "Network engineer               100\n",
       "Name: count, Length: 65, dtype: int64"
      ]
     },
     "execution_count": 50,
     "metadata": {},
     "output_type": "execute_result"
    }
   ],
   "source": [
    "df2['job'].value_counts()"
   ]
  },
  {
   "cell_type": "code",
   "execution_count": 51,
   "id": "45585afe-4ac9-4a2c-8c27-6fba0de02132",
   "metadata": {},
   "outputs": [
    {
     "data": {
      "text/html": [
       "<div>\n",
       "<style scoped>\n",
       "    .dataframe tbody tr th:only-of-type {\n",
       "        vertical-align: middle;\n",
       "    }\n",
       "\n",
       "    .dataframe tbody tr th {\n",
       "        vertical-align: top;\n",
       "    }\n",
       "\n",
       "    .dataframe thead th {\n",
       "        text-align: right;\n",
       "    }\n",
       "</style>\n",
       "<table border=\"1\" class=\"dataframe\">\n",
       "  <thead>\n",
       "    <tr style=\"text-align: right;\">\n",
       "      <th></th>\n",
       "      <th>category</th>\n",
       "      <th>amt</th>\n",
       "      <th>city</th>\n",
       "      <th>lat</th>\n",
       "      <th>long</th>\n",
       "      <th>city_pop</th>\n",
       "      <th>job</th>\n",
       "      <th>merch_lat</th>\n",
       "      <th>merch_long</th>\n",
       "      <th>is_fraud</th>\n",
       "    </tr>\n",
       "  </thead>\n",
       "  <tbody>\n",
       "    <tr>\n",
       "      <th>0</th>\n",
       "      <td>grocery_net</td>\n",
       "      <td>14.37</td>\n",
       "      <td>Others city</td>\n",
       "      <td>64.7556</td>\n",
       "      <td>-165.6723</td>\n",
       "      <td>145</td>\n",
       "      <td>Others Jobs</td>\n",
       "      <td>65.654142</td>\n",
       "      <td>-164.722603</td>\n",
       "      <td>1</td>\n",
       "    </tr>\n",
       "    <tr>\n",
       "      <th>1</th>\n",
       "      <td>shopping_net</td>\n",
       "      <td>966.11</td>\n",
       "      <td>Others city</td>\n",
       "      <td>64.7556</td>\n",
       "      <td>-165.6723</td>\n",
       "      <td>145</td>\n",
       "      <td>Others Jobs</td>\n",
       "      <td>65.468863</td>\n",
       "      <td>-165.473127</td>\n",
       "      <td>1</td>\n",
       "    </tr>\n",
       "    <tr>\n",
       "      <th>2</th>\n",
       "      <td>misc_pos</td>\n",
       "      <td>49.61</td>\n",
       "      <td>Others city</td>\n",
       "      <td>64.7556</td>\n",
       "      <td>-165.6723</td>\n",
       "      <td>145</td>\n",
       "      <td>Others Jobs</td>\n",
       "      <td>65.347667</td>\n",
       "      <td>-165.914542</td>\n",
       "      <td>1</td>\n",
       "    </tr>\n",
       "    <tr>\n",
       "      <th>3</th>\n",
       "      <td>grocery_pos</td>\n",
       "      <td>295.26</td>\n",
       "      <td>Others city</td>\n",
       "      <td>64.7556</td>\n",
       "      <td>-165.6723</td>\n",
       "      <td>145</td>\n",
       "      <td>Others Jobs</td>\n",
       "      <td>64.445035</td>\n",
       "      <td>-166.080207</td>\n",
       "      <td>1</td>\n",
       "    </tr>\n",
       "    <tr>\n",
       "      <th>4</th>\n",
       "      <td>health_fitness</td>\n",
       "      <td>18.17</td>\n",
       "      <td>Others city</td>\n",
       "      <td>64.7556</td>\n",
       "      <td>-165.6723</td>\n",
       "      <td>145</td>\n",
       "      <td>Others Jobs</td>\n",
       "      <td>65.447094</td>\n",
       "      <td>-165.446843</td>\n",
       "      <td>1</td>\n",
       "    </tr>\n",
       "  </tbody>\n",
       "</table>\n",
       "</div>"
      ],
      "text/plain": [
       "         category     amt         city      lat      long  city_pop  \\\n",
       "0     grocery_net   14.37  Others city  64.7556 -165.6723       145   \n",
       "1    shopping_net  966.11  Others city  64.7556 -165.6723       145   \n",
       "2        misc_pos   49.61  Others city  64.7556 -165.6723       145   \n",
       "3     grocery_pos  295.26  Others city  64.7556 -165.6723       145   \n",
       "4  health_fitness   18.17  Others city  64.7556 -165.6723       145   \n",
       "\n",
       "           job  merch_lat  merch_long is_fraud  \n",
       "0  Others Jobs  65.654142 -164.722603        1  \n",
       "1  Others Jobs  65.468863 -165.473127        1  \n",
       "2  Others Jobs  65.347667 -165.914542        1  \n",
       "3  Others Jobs  64.445035 -166.080207        1  \n",
       "4  Others Jobs  65.447094 -165.446843        1  "
      ]
     },
     "execution_count": 51,
     "metadata": {},
     "output_type": "execute_result"
    }
   ],
   "source": [
    "\n",
    "df2.head()"
   ]
  },
  {
   "cell_type": "markdown",
   "id": "51c81b9b-2f4f-44d2-a856-5ea712ad2b56",
   "metadata": {},
   "source": [
    "# Checking the is_fraud column "
   ]
  },
  {
   "cell_type": "code",
   "execution_count": 52,
   "id": "96ef44e6-c644-4924-b5cc-d5bb27b9e90a",
   "metadata": {},
   "outputs": [
    {
     "data": {
      "text/plain": [
       "array(['1', '1\"2020-12-24 16:56:24\"', '0', '0\"2019-01-01 00:00:44\"'],\n",
       "      dtype=object)"
      ]
     },
     "execution_count": 52,
     "metadata": {},
     "output_type": "execute_result"
    }
   ],
   "source": [
    "df2['is_fraud'].unique()"
   ]
  },
  {
   "cell_type": "markdown",
   "id": "df5a887e-3c28-443a-9d63-0a2a18a5645c",
   "metadata": {},
   "source": [
    "There are some mistake in is_fraud column and we change the data type also"
   ]
  },
  {
   "cell_type": "code",
   "execution_count": 53,
   "id": "a4e19e1d-4d35-49e4-9483-ca4e7ce04f00",
   "metadata": {},
   "outputs": [],
   "source": [
    "def function(text):\n",
    "    if text in '1':\n",
    "        return 1\n",
    "    else:\n",
    "        return 0\n",
    "df2['is_fraud'] = df2['is_fraud'].apply(function)\n"
   ]
  },
  {
   "cell_type": "code",
   "execution_count": 54,
   "id": "1b428746-4e5d-4bb9-aa4e-1dd14529b249",
   "metadata": {},
   "outputs": [],
   "source": [
    "# change the data type\n",
    "df2['is_fraud'] = df2['is_fraud'].astype(int)"
   ]
  },
  {
   "cell_type": "code",
   "execution_count": 55,
   "id": "a0dffe6e-45d2-41a9-b8c8-8cf53d98bffd",
   "metadata": {},
   "outputs": [
    {
     "data": {
      "text/plain": [
       "array([1, 0])"
      ]
     },
     "execution_count": 55,
     "metadata": {},
     "output_type": "execute_result"
    }
   ],
   "source": [
    "\n",
    "df2['is_fraud'].unique()"
   ]
  },
  {
   "cell_type": "code",
   "execution_count": 56,
   "id": "cf1f6f30-32c7-4136-aa24-5e4491c6ea02",
   "metadata": {},
   "outputs": [
    {
     "name": "stdout",
     "output_type": "stream",
     "text": [
      "<class 'pandas.core.frame.DataFrame'>\n",
      "Index: 14383 entries, 0 to 14445\n",
      "Data columns (total 10 columns):\n",
      " #   Column      Non-Null Count  Dtype  \n",
      "---  ------      --------------  -----  \n",
      " 0   category    14383 non-null  object \n",
      " 1   amt         14383 non-null  float64\n",
      " 2   city        14383 non-null  object \n",
      " 3   lat         14383 non-null  float64\n",
      " 4   long        14383 non-null  float64\n",
      " 5   city_pop    14383 non-null  int64  \n",
      " 6   job         14383 non-null  object \n",
      " 7   merch_lat   14383 non-null  float64\n",
      " 8   merch_long  14383 non-null  float64\n",
      " 9   is_fraud    14383 non-null  int32  \n",
      "dtypes: float64(5), int32(1), int64(1), object(3)\n",
      "memory usage: 1.2+ MB\n"
     ]
    }
   ],
   "source": [
    "\n",
    "df2.info()"
   ]
  },
  {
   "cell_type": "markdown",
   "id": "58b5ea40-42db-4776-8d6d-ff9a16584d8d",
   "metadata": {},
   "source": [
    "\n"
   ]
  },
  {
   "cell_type": "code",
   "execution_count": 57,
   "id": "428f9eb4-7064-41c6-b770-a9aac6f676f8",
   "metadata": {},
   "outputs": [],
   "source": [
    "x = df2.drop(['is_fraud'],axis=1)\n",
    "y= df2['is_fraud']"
   ]
  },
  {
   "cell_type": "markdown",
   "id": "e311912b-532f-471f-be86-b518b7091f7a",
   "metadata": {},
   "source": [
    "# Start Buliding the Model"
   ]
  },
  {
   "cell_type": "code",
   "execution_count": 58,
   "id": "6f79e869-b549-49d5-90ca-20222571c57e",
   "metadata": {},
   "outputs": [],
   "source": [
    "from sklearn.preprocessing import OneHotEncoder\n",
    "\n",
    "one = OneHotEncoder()\n",
    "one_city_job = one.fit_transform(x[['category','city','job']]).toarray()\n"
   ]
  },
  {
   "cell_type": "code",
   "execution_count": 59,
   "id": "66909007-dec2-4610-8509-7765c0313e8e",
   "metadata": {},
   "outputs": [],
   "source": [
    "x.drop(['city','job','category'],axis=1,inplace=True)"
   ]
  },
  {
   "cell_type": "code",
   "execution_count": 60,
   "id": "5d58c948-4926-4c90-bec7-6f62e7466088",
   "metadata": {},
   "outputs": [],
   "source": [
    "x = np.hstack((one_city_job,x))"
   ]
  },
  {
   "cell_type": "code",
   "execution_count": 61,
   "id": "e7b1ea40-55f1-46d2-aaf3-7cb99662a98c",
   "metadata": {},
   "outputs": [
    {
     "data": {
      "text/plain": [
       "(14383, 146)"
      ]
     },
     "execution_count": 61,
     "metadata": {},
     "output_type": "execute_result"
    }
   ],
   "source": [
    "x.shape"
   ]
  },
  {
   "cell_type": "markdown",
   "id": "de7716b3-2155-42f1-9ff6-c3f22cb28891",
   "metadata": {},
   "source": [
    "## Performe the StandardScaler"
   ]
  },
  {
   "cell_type": "code",
   "execution_count": 62,
   "id": "7b7e807b-a226-4c80-98c2-750551f8e208",
   "metadata": {},
   "outputs": [],
   "source": [
    "# StandardScaler\n",
    "scaler = StandardScaler()\n",
    "x_scaler = scaler.fit_transform(x)\n",
    "#x_test_scaler = scaler.transform(x_test)"
   ]
  },
  {
   "cell_type": "markdown",
   "id": "65695a29-9409-4671-93c0-63a64f836edd",
   "metadata": {},
   "source": [
    "\n"
   ]
  },
  {
   "cell_type": "markdown",
   "id": "7cf109ea-723e-4d66-8da8-6c98d7dee6cb",
   "metadata": {},
   "source": [
    "\n",
    "## Making a Metrics Functon "
   ]
  },
  {
   "cell_type": "code",
   "execution_count": 63,
   "id": "ac289e67-d62b-45a4-8434-529d0f5895b3",
   "metadata": {},
   "outputs": [],
   "source": [
    "\n",
    "def metrics(true,predicted):\n",
    "    acc = accuracy_score(true,predicted)\n",
    "    f1 = f1_score(true,predicted)\n",
    "    precision = precision_score(true, predicted) # Calculate Precision\n",
    "    recall = recall_score(true, predicted)  # Calculate Recall\n",
    "    roc_auc = roc_auc_score(true, predicted) #Calculate Roc\n",
    "    return acc, f1 , precision, recall, roc_auc\n",
    "    "
   ]
  },
  {
   "cell_type": "markdown",
   "id": "3c3fa0e2-e735-42a6-a3eb-fea055a0de65",
   "metadata": {},
   "source": [
    "### Models"
   ]
  },
  {
   "cell_type": "code",
   "execution_count": 64,
   "id": "fad07e7d-6562-4763-8cf3-e900483d5af1",
   "metadata": {},
   "outputs": [],
   "source": [
    "\n",
    "models = {\n",
    "    \"Random Forest\": RandomForestClassifier(),\n",
    "    \"Decision Tree\": DecisionTreeClassifier(),\n",
    "    \"Gradient Boosting\": GradientBoostingClassifier(),\n",
    "    \"Logistic Regression\": LogisticRegression(),\n",
    "     \"K-Neighbors Classifier\": KNeighborsClassifier(),\n",
    "    \"XGBClassifier\": XGBClassifier(), \n",
    "     \"CatBoosting Classifier\": CatBoostClassifier(verbose=False),\n",
    "     \"Support Vector Classifier\": SVC(),\n",
    "    \"AdaBoost Classifier\": AdaBoostClassifier()\n",
    "\n",
    "}"
   ]
  },
  {
   "cell_type": "markdown",
   "id": "7a7613cf-01e9-41b9-8ebd-91e4d83c9ce6",
   "metadata": {},
   "source": [
    "\n"
   ]
  },
  {
   "cell_type": "markdown",
   "id": "745c553c-1786-4311-a4ea-cce915f713f2",
   "metadata": {},
   "source": [
    "### Evaluate the Models"
   ]
  },
  {
   "cell_type": "code",
   "execution_count": 65,
   "id": "35e76f34-30f8-4b44-ab12-f07488c7adb6",
   "metadata": {},
   "outputs": [],
   "source": [
    "\n",
    "def evaluate_models(X, y, models):\n",
    "    '''\n",
    "    This function takes in X and y and models dictionary as input\n",
    "    It splits the data into Train Test split\n",
    "    Iterates through the given model dictionary and evaluates the metrics\n",
    "    Returns: Dataframe which contains report of all models metrics with cost\n",
    "    '''\n",
    "    # separate dataset into train and test\n",
    "    X_train, X_test, y_train, y_test = train_test_split(X,y,test_size=0.2,random_state=12)\n",
    "    \n",
    "    models_list = []\n",
    "    accuracy_list = []\n",
    "    auc= []\n",
    "    \n",
    "    for i in range(len(list(models))):\n",
    "        model = list(models.values())[i]\n",
    "        model.fit(X_train, y_train) # Train model\n",
    "\n",
    "        # Make predictions\n",
    "        y_train_pred = model.predict(X_train)\n",
    "        y_test_pred = model.predict(X_test)\n",
    "\n",
    "        # Training set performance\n",
    "        model_train_accuracy, model_train_f1,model_train_precision,\\\n",
    "        model_train_recall,model_train_rocauc_score=metrics(y_train ,y_train_pred)\n",
    "\n",
    "\n",
    "        # Test set performance\n",
    "        model_test_accuracy,model_test_f1,model_test_precision,\\\n",
    "        model_test_recall,model_test_rocauc_score=metrics(y_test, y_test_pred)\n",
    "\n",
    "        print(list(models.keys())[i])\n",
    "        models_list.append(list(models.keys())[i])\n",
    "\n",
    "        print('Model performance for Training set')\n",
    "        print(\"- Accuracy: {:.4f}\".format(model_train_accuracy))\n",
    "        print('- F1 score: {:.4f}'.format(model_train_f1)) \n",
    "        print('- Precision: {:.4f}'.format(model_train_precision))\n",
    "        print('- Recall: {:.4f}'.format(model_train_recall))\n",
    "        print('- Roc Auc Score: {:.4f}'.format(model_train_rocauc_score))\n",
    "\n",
    "        print('----------------------------------')\n",
    "\n",
    "        print('Model performance for Test set')\n",
    "        print('- Accuracy: {:.4f}'.format(model_test_accuracy))\n",
    "        accuracy_list.append(model_test_accuracy)\n",
    "        print('- F1 score: {:.4f}'.format(model_test_f1))\n",
    "        print('- Precision: {:.4f}'.format(model_test_precision))\n",
    "        print('- Recall: {:.4f}'.format(model_test_recall))\n",
    "        print('- Roc Auc Score: {:.4f}'.format(model_test_rocauc_score))\n",
    "        auc.append(model_test_rocauc_score)\n",
    "        print('='*35)\n",
    "        print('\\n')\n",
    "        \n",
    "    report=pd.DataFrame(list(zip(models_list, accuracy_list)), columns=['Model Name', 'Accuracy']).sort_values(by=['Accuracy'], ascending=False)\n",
    "        \n",
    "    return report"
   ]
  },
  {
   "cell_type": "code",
   "execution_count": 66,
   "id": "08a91be7-512a-41fd-93b5-0f8f9f3155a2",
   "metadata": {},
   "outputs": [
    {
     "name": "stdout",
     "output_type": "stream",
     "text": [
      "Random Forest\n",
      "Model performance for Training set\n",
      "- Accuracy: 1.0000\n",
      "- F1 score: 1.0000\n",
      "- Precision: 1.0000\n",
      "- Recall: 1.0000\n",
      "- Roc Auc Score: 1.0000\n",
      "----------------------------------\n",
      "Model performance for Test set\n",
      "- Accuracy: 0.9743\n",
      "- F1 score: 0.8882\n",
      "- Precision: 0.9639\n",
      "- Recall: 0.8235\n",
      "- Roc Auc Score: 0.9096\n",
      "===================================\n",
      "\n",
      "\n",
      "Decision Tree\n",
      "Model performance for Training set\n",
      "- Accuracy: 1.0000\n",
      "- F1 score: 1.0000\n",
      "- Precision: 1.0000\n",
      "- Recall: 1.0000\n",
      "- Roc Auc Score: 1.0000\n",
      "----------------------------------\n",
      "Model performance for Test set\n",
      "- Accuracy: 0.9666\n",
      "- F1 score: 0.8678\n",
      "- Precision: 0.8537\n",
      "- Recall: 0.8824\n",
      "- Roc Auc Score: 0.9305\n",
      "===================================\n",
      "\n",
      "\n",
      "Gradient Boosting\n",
      "Model performance for Training set\n",
      "- Accuracy: 0.9769\n",
      "- F1 score: 0.8999\n",
      "- Precision: 0.9692\n",
      "- Recall: 0.8399\n",
      "- Roc Auc Score: 0.9181\n",
      "----------------------------------\n",
      "Model performance for Test set\n",
      "- Accuracy: 0.9784\n",
      "- F1 score: 0.9088\n",
      "- Precision: 0.9567\n",
      "- Recall: 0.8655\n",
      "- Roc Auc Score: 0.9300\n",
      "===================================\n",
      "\n",
      "\n",
      "Logistic Regression\n",
      "Model performance for Training set\n",
      "- Accuracy: 0.9518\n",
      "- F1 score: 0.7739\n",
      "- Precision: 0.9214\n",
      "- Recall: 0.6671\n",
      "- Roc Auc Score: 0.8296\n",
      "----------------------------------\n",
      "Model performance for Test set\n",
      "- Accuracy: 0.9548\n",
      "- F1 score: 0.7937\n",
      "- Precision: 0.9158\n",
      "- Recall: 0.7003\n",
      "- Roc Auc Score: 0.8456\n",
      "===================================\n",
      "\n",
      "\n",
      "K-Neighbors Classifier\n",
      "Model performance for Training set\n",
      "- Accuracy: 0.9448\n",
      "- F1 score: 0.7271\n",
      "- Precision: 0.9369\n",
      "- Recall: 0.5941\n",
      "- Roc Auc Score: 0.7942\n",
      "----------------------------------\n",
      "Model performance for Test set\n",
      "- Accuracy: 0.9333\n",
      "- F1 score: 0.6678\n",
      "- Precision: 0.8733\n",
      "- Recall: 0.5406\n",
      "- Roc Auc Score: 0.7648\n",
      "===================================\n",
      "\n",
      "\n",
      "XGBClassifier\n",
      "Model performance for Training set\n",
      "- Accuracy: 0.9979\n",
      "- F1 score: 0.9915\n",
      "- Precision: 0.9965\n",
      "- Recall: 0.9867\n",
      "- Roc Auc Score: 0.9931\n",
      "----------------------------------\n",
      "Model performance for Test set\n",
      "- Accuracy: 0.9764\n",
      "- F1 score: 0.9026\n",
      "- Precision: 0.9238\n",
      "- Recall: 0.8824\n",
      "- Roc Auc Score: 0.9360\n",
      "===================================\n",
      "\n",
      "\n",
      "CatBoosting Classifier\n",
      "Model performance for Training set\n",
      "- Accuracy: 0.9890\n",
      "- F1 score: 0.9543\n",
      "- Precision: 0.9786\n",
      "- Recall: 0.9312\n",
      "- Roc Auc Score: 0.9642\n",
      "----------------------------------\n",
      "Model performance for Test set\n",
      "- Accuracy: 0.9771\n",
      "- F1 score: 0.9043\n",
      "- Precision: 0.9369\n",
      "- Recall: 0.8739\n",
      "- Roc Auc Score: 0.9328\n",
      "===================================\n",
      "\n",
      "\n",
      "Support Vector Classifier\n",
      "Model performance for Training set\n",
      "- Accuracy: 0.9457\n",
      "- F1 score: 0.7344\n",
      "- Precision: 0.9300\n",
      "- Recall: 0.6067\n",
      "- Roc Auc Score: 0.8001\n",
      "----------------------------------\n",
      "Model performance for Test set\n",
      "- Accuracy: 0.9482\n",
      "- F1 score: 0.7521\n",
      "- Precision: 0.9262\n",
      "- Recall: 0.6331\n",
      "- Roc Auc Score: 0.8130\n",
      "===================================\n",
      "\n",
      "\n",
      "AdaBoost Classifier\n",
      "Model performance for Training set\n",
      "- Accuracy: 0.9599\n",
      "- F1 score: 0.8246\n",
      "- Precision: 0.8996\n",
      "- Recall: 0.7612\n",
      "- Roc Auc Score: 0.8746\n",
      "----------------------------------\n",
      "Model performance for Test set\n",
      "- Accuracy: 0.9583\n",
      "- F1 score: 0.8240\n",
      "- Precision: 0.8646\n",
      "- Recall: 0.7871\n",
      "- Roc Auc Score: 0.8848\n",
      "===================================\n",
      "\n",
      "\n"
     ]
    }
   ],
   "source": [
    "base_model_report = evaluate_models(X=x_scaler,y=y,models=models)"
   ]
  },
  {
   "cell_type": "markdown",
   "id": "cf329519-87e8-4d74-9ac8-aa660d5a144e",
   "metadata": {},
   "source": [
    "\n"
   ]
  },
  {
   "cell_type": "markdown",
   "id": "812a57c0-b61a-4d9c-9f70-4674ed333868",
   "metadata": {},
   "source": [
    "\n",
    "\n"
   ]
  },
  {
   "cell_type": "markdown",
   "id": "22c3c71d-a97f-4e3b-8807-b16dcad27ade",
   "metadata": {},
   "source": [
    "\n",
    "# Model list"
   ]
  },
  {
   "cell_type": "code",
   "execution_count": 67,
   "id": "5d77766c-a410-44c8-ba80-f38780e6b29a",
   "metadata": {},
   "outputs": [
    {
     "data": {
      "text/html": [
       "<div>\n",
       "<style scoped>\n",
       "    .dataframe tbody tr th:only-of-type {\n",
       "        vertical-align: middle;\n",
       "    }\n",
       "\n",
       "    .dataframe tbody tr th {\n",
       "        vertical-align: top;\n",
       "    }\n",
       "\n",
       "    .dataframe thead th {\n",
       "        text-align: right;\n",
       "    }\n",
       "</style>\n",
       "<table border=\"1\" class=\"dataframe\">\n",
       "  <thead>\n",
       "    <tr style=\"text-align: right;\">\n",
       "      <th></th>\n",
       "      <th>Model Name</th>\n",
       "      <th>Accuracy</th>\n",
       "    </tr>\n",
       "  </thead>\n",
       "  <tbody>\n",
       "    <tr>\n",
       "      <th>2</th>\n",
       "      <td>Gradient Boosting</td>\n",
       "      <td>0.978450</td>\n",
       "    </tr>\n",
       "    <tr>\n",
       "      <th>6</th>\n",
       "      <td>CatBoosting Classifier</td>\n",
       "      <td>0.977059</td>\n",
       "    </tr>\n",
       "    <tr>\n",
       "      <th>5</th>\n",
       "      <td>XGBClassifier</td>\n",
       "      <td>0.976364</td>\n",
       "    </tr>\n",
       "    <tr>\n",
       "      <th>0</th>\n",
       "      <td>Random Forest</td>\n",
       "      <td>0.974279</td>\n",
       "    </tr>\n",
       "    <tr>\n",
       "      <th>1</th>\n",
       "      <td>Decision Tree</td>\n",
       "      <td>0.966632</td>\n",
       "    </tr>\n",
       "    <tr>\n",
       "      <th>8</th>\n",
       "      <td>AdaBoost Classifier</td>\n",
       "      <td>0.958290</td>\n",
       "    </tr>\n",
       "    <tr>\n",
       "      <th>3</th>\n",
       "      <td>Logistic Regression</td>\n",
       "      <td>0.954814</td>\n",
       "    </tr>\n",
       "    <tr>\n",
       "      <th>7</th>\n",
       "      <td>Support Vector Classifier</td>\n",
       "      <td>0.948210</td>\n",
       "    </tr>\n",
       "    <tr>\n",
       "      <th>4</th>\n",
       "      <td>K-Neighbors Classifier</td>\n",
       "      <td>0.933264</td>\n",
       "    </tr>\n",
       "  </tbody>\n",
       "</table>\n",
       "</div>"
      ],
      "text/plain": [
       "                  Model Name  Accuracy\n",
       "2          Gradient Boosting  0.978450\n",
       "6     CatBoosting Classifier  0.977059\n",
       "5              XGBClassifier  0.976364\n",
       "0              Random Forest  0.974279\n",
       "1              Decision Tree  0.966632\n",
       "8        AdaBoost Classifier  0.958290\n",
       "3        Logistic Regression  0.954814\n",
       "7  Support Vector Classifier  0.948210\n",
       "4     K-Neighbors Classifier  0.933264"
      ]
     },
     "execution_count": 67,
     "metadata": {},
     "output_type": "execute_result"
    }
   ],
   "source": [
    "base_model_report"
   ]
  },
  {
   "cell_type": "markdown",
   "id": "97f35557-c9b5-43bc-94d5-b40e0f0f17a7",
   "metadata": {},
   "source": [
    "\n"
   ]
  },
  {
   "cell_type": "markdown",
   "id": "c38246da-8415-4328-a6b6-ae7451fd5735",
   "metadata": {},
   "source": [
    "\n"
   ]
  },
  {
   "cell_type": "markdown",
   "id": "69131802-d593-4786-9fd6-7df63b88cf2a",
   "metadata": {},
   "source": [
    "# Preprare the Confusion Matrix"
   ]
  },
  {
   "cell_type": "markdown",
   "id": "96e5c43c-f239-4656-a869-e75ae20d1f0b",
   "metadata": {},
   "source": [
    "\n"
   ]
  },
  {
   "cell_type": "markdown",
   "id": "0b9133e1-1d9e-4322-8f4f-33e59ad02e73",
   "metadata": {},
   "source": [
    "#### Implement the Gradient model"
   ]
  },
  {
   "cell_type": "code",
   "execution_count": 70,
   "id": "89608d36-db0c-4765-a8dd-0269c5d0e59a",
   "metadata": {},
   "outputs": [
    {
     "name": "stdout",
     "output_type": "stream",
     "text": [
      "FINAL MODEL Gradient\n",
      "Accuracy Score value: 0.9784\n",
      "              precision    recall  f1-score   support\n",
      "\n",
      "           0       0.98      0.99      0.99      2520\n",
      "           1       0.96      0.87      0.91       357\n",
      "\n",
      "    accuracy                           0.98      2877\n",
      "   macro avg       0.97      0.93      0.95      2877\n",
      "weighted avg       0.98      0.98      0.98      2877\n",
      "\n"
     ]
    }
   ],
   "source": [
    "x_train,x_test,y_train,y_test = train_test_split(x_scaler,y,test_size=0.2,random_state=12)\n",
    "\n",
    "best_model = GradientBoostingClassifier()\n",
    "best_model = best_model.fit(x_train,y_train)\n",
    "y_pred = best_model.predict(x_test)\n",
    "score = accuracy_score(y_test,y_pred)\n",
    "cr = classification_report(y_test,y_pred)\n",
    "\n",
    "print(\"FINAL MODEL Gradient\")\n",
    "print (\"Accuracy Score value: {:.4f}\".format(score))\n",
    "print (cr)"
   ]
  },
  {
   "cell_type": "code",
   "execution_count": 69,
   "id": "ddc83831-b33c-45ba-9443-19178bf43057",
   "metadata": {},
   "outputs": [
    {
     "data": {
      "image/png": "[encoded data removed]",
      "text/plain": [
       "<Figure size 640x480 with 2 Axes>"
      ]
     },
     "metadata": {},
     "output_type": "display_data"
    }
   ],
   "source": [
    "from sklearn.metrics import ConfusionMatrixDisplay\n",
    "ConfusionMatrixDisplay.from_estimator(best_model, x_test, y_test)\n",
    "plt.show()"
   ]
  },
  {
   "cell_type": "markdown",
   "id": "8c010025-5fae-402c-adf0-288669295b97",
   "metadata": {},
   "source": [
    "\n",
    "\n"
   ]
  },
  {
   "cell_type": "markdown",
   "id": "5f4a551b-6c1c-49b6-8d68-02256d3e1875",
   "metadata": {},
   "source": [
    "\n",
    "# HyperParameter-Tunning"
   ]
  },
  {
   "cell_type": "code",
   "execution_count": 85,
   "id": "d42301c5-25ba-4021-a961-d2cdf42bd1b0",
   "metadata": {},
   "outputs": [],
   "source": [
    "\n",
    "def objective(trial):\n",
    "    loss = trial.suggest_categorical('Loss',['log_loss', 'exponential'])\n",
    "    learning_rate = trial.suggest_categorical('learning_rate',[0.1,0.01,0.2,0.001])\n",
    "    n_estimator = trial.suggest_int('n_estimators',100,1500,step=100)\n",
    "    criterion = trial.suggest_categorical('criterion',['friedman_mse', 'squared_error'])\n",
    "    max_depth = trial.suggest_categorical('max_depth',[3,4,6,8,None])\n",
    "\n",
    "    model = GradientBoostingClassifier(\n",
    "        loss=loss,\n",
    "        learning_rate=learning_rate,\n",
    "        n_estimators=n_estimator,\n",
    "        criterion=criterion,\n",
    "        max_depth=max_depth\n",
    "    )\n",
    "\n",
    "    score = cross_val_score(estimator=model,X=x_train,y=y_train,scoring='accuracy',cv=3).mean()\n",
    "    \n",
    "    return score"
   ]
  },
  {
   "cell_type": "code",
   "execution_count": 86,
   "id": "04c86fd7-897d-4473-bb5f-6dae06829466",
   "metadata": {},
   "outputs": [],
   "source": [
    "import optuna"
   ]
  },
  {
   "cell_type": "code",
   "execution_count": 87,
   "id": "f5846e7d-3753-4837-b13e-7504cd7a5523",
   "metadata": {},
   "outputs": [
    {
     "name": "stderr",
     "output_type": "stream",
     "text": [
      "[I 2025-01-17 16:38:49,339] A new study created in memory with name: no-name-a5f20e41-34d9-4db4-a9cc-a8dcdb78629e\n"
     ]
    }
   ],
   "source": [
    "study = optuna.create_study(direction='maximize',sampler=optuna.samplers.TPESampler())"
   ]
  },
  {
   "cell_type": "code",
   "execution_count": 88,
   "id": "1c7985a2-81a0-48ff-ac45-1191691f3e05",
   "metadata": {},
   "outputs": [
    {
     "name": "stderr",
     "output_type": "stream",
     "text": [
      "[I 2025-01-17 16:51:47,832] Trial 0 finished with value: 0.9712325057926937 and parameters: {'Loss': 'exponential', 'learning_rate': 0.001, 'n_estimators': 1400, 'criterion': 'squared_error', 'max_depth': 8}. Best is trial 0 with value: 0.9712325057926937.\n",
      "[I 2025-01-17 17:04:26,326] Trial 1 finished with value: 0.9654096079185774 and parameters: {'Loss': 'log_loss', 'learning_rate': 0.001, 'n_estimators': 900, 'criterion': 'friedman_mse', 'max_depth': None}. Best is trial 0 with value: 0.9712325057926937.\n",
      "[I 2025-01-17 17:07:09,046] Trial 2 finished with value: 0.8762384899524576 and parameters: {'Loss': 'exponential', 'learning_rate': 0.001, 'n_estimators': 300, 'criterion': 'squared_error', 'max_depth': 8}. Best is trial 0 with value: 0.9712325057926937.\n",
      "[I 2025-01-17 17:11:50,767] Trial 3 finished with value: 0.9556755257608901 and parameters: {'Loss': 'exponential', 'learning_rate': 0.001, 'n_estimators': 1300, 'criterion': 'squared_error', 'max_depth': 3}. Best is trial 0 with value: 0.9712325057926937.\n",
      "[I 2025-01-17 17:13:01,542] Trial 4 finished with value: 0.9665395740800912 and parameters: {'Loss': 'log_loss', 'learning_rate': 0.2, 'n_estimators': 1300, 'criterion': 'friedman_mse', 'max_depth': None}. Best is trial 0 with value: 0.9712325057926937.\n",
      "[I 2025-01-17 17:15:12,301] Trial 5 finished with value: 0.9670610411486323 and parameters: {'Loss': 'log_loss', 'learning_rate': 0.1, 'n_estimators': 1000, 'criterion': 'squared_error', 'max_depth': None}. Best is trial 0 with value: 0.9712325057926937.\n",
      "[I 2025-01-17 17:19:43,650] Trial 6 finished with value: 0.9724494133438832 and parameters: {'Loss': 'log_loss', 'learning_rate': 0.2, 'n_estimators': 1300, 'criterion': 'squared_error', 'max_depth': 3}. Best is trial 6 with value: 0.9724494133438832.\n",
      "[I 2025-01-17 17:24:25,147] Trial 7 finished with value: 0.8936222361497631 and parameters: {'Loss': 'exponential', 'learning_rate': 0.001, 'n_estimators': 1000, 'criterion': 'friedman_mse', 'max_depth': 4}. Best is trial 6 with value: 0.9724494133438832.\n",
      "[I 2025-01-17 17:34:49,332] Trial 8 finished with value: 0.9701027888767589 and parameters: {'Loss': 'exponential', 'learning_rate': 0.001, 'n_estimators': 1500, 'criterion': 'squared_error', 'max_depth': 6}. Best is trial 6 with value: 0.9724494133438832.\n",
      "[I 2025-01-17 17:39:03,536] Trial 9 finished with value: 0.96584420157351 and parameters: {'Loss': 'exponential', 'learning_rate': 0.01, 'n_estimators': 300, 'criterion': 'squared_error', 'max_depth': None}. Best is trial 6 with value: 0.9724494133438832.\n",
      "[I 2025-01-17 17:41:17,211] Trial 10 finished with value: 0.9726232054884782 and parameters: {'Loss': 'log_loss', 'learning_rate': 0.2, 'n_estimators': 600, 'criterion': 'friedman_mse', 'max_depth': 3}. Best is trial 10 with value: 0.9726232054884782.\n",
      "[I 2025-01-17 17:43:28,077] Trial 11 finished with value: 0.9727101242194648 and parameters: {'Loss': 'log_loss', 'learning_rate': 0.2, 'n_estimators': 600, 'criterion': 'friedman_mse', 'max_depth': 3}. Best is trial 11 with value: 0.9727101242194648.\n",
      "[I 2025-01-17 17:45:32,122] Trial 12 finished with value: 0.9720148876650176 and parameters: {'Loss': 'log_loss', 'learning_rate': 0.2, 'n_estimators': 600, 'criterion': 'friedman_mse', 'max_depth': 3}. Best is trial 11 with value: 0.9727101242194648.\n",
      "[I 2025-01-17 17:47:38,000] Trial 13 finished with value: 0.9724493680265053 and parameters: {'Loss': 'log_loss', 'learning_rate': 0.2, 'n_estimators': 600, 'criterion': 'friedman_mse', 'max_depth': 3}. Best is trial 11 with value: 0.9727101242194648.\n",
      "[I 2025-01-17 17:49:43,524] Trial 14 finished with value: 0.9723624492955186 and parameters: {'Loss': 'log_loss', 'learning_rate': 0.2, 'n_estimators': 600, 'criterion': 'friedman_mse', 'max_depth': 3}. Best is trial 11 with value: 0.9727101242194648.\n"
     ]
    }
   ],
   "source": [
    "study.optimize(objective,n_trials=15)"
   ]
  },
  {
   "cell_type": "code",
   "execution_count": 89,
   "id": "5c3803ff-5f17-449d-b054-73bf5423a4ea",
   "metadata": {},
   "outputs": [
    {
     "data": {
      "text/plain": [
       "{'Loss': 'log_loss',\n",
       " 'learning_rate': 0.2,\n",
       " 'n_estimators': 600,\n",
       " 'criterion': 'friedman_mse',\n",
       " 'max_depth': 3}"
      ]
     },
     "execution_count": 89,
     "metadata": {},
     "output_type": "execute_result"
    }
   ],
   "source": [
    "study.best_params"
   ]
  },
  {
   "cell_type": "code",
   "execution_count": 91,
   "id": "aefbae03-58bf-403c-8165-5523356b2822",
   "metadata": {},
   "outputs": [
    {
     "name": "stdout",
     "output_type": "stream",
     "text": [
      "Best Accuracy on the GradientBoostingClassifier: 0.9727101242194648\n"
     ]
    }
   ],
   "source": [
    "print(f\"Best Accuracy on the GradientBoostingClassifier: {study.best_value}\")"
   ]
  },
  {
   "cell_type": "markdown",
   "id": "08190051-2287-40f8-a8a3-2b180bd01c24",
   "metadata": {},
   "source": [
    "# The Best model on this dataset is Gradient Boosting Model "
   ]
  }
 ],
 "metadata": {
  "kernelspec": {
   "display_name": "Python 3 (ipykernel)",
   "language": "python",
   "name": "python3"
  },
  "language_info": {
   "codemirror_mode": {
    "name": "ipython",
    "version": 3
   },
   "file_extension": ".py",
   "mimetype": "text/x-python",
   "name": "python",
   "nbconvert_exporter": "python",
   "pygments_lexer": "ipython3",
   "version": "3.12.4"
  }
 },
 "nbformat": 4,
 "nbformat_minor": 5
}
